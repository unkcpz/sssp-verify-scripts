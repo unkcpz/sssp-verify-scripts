{
 "cells": [
  {
   "attachments": {},
   "cell_type": "markdown",
   "metadata": {},
   "source": [
    "## export library results\n",
    "\n",
    "This scritp is used to group the verification results by library and generate the Result JSON summary file. "
   ]
  },
  {
   "cell_type": "code",
   "execution_count": 1,
   "metadata": {},
   "outputs": [
    {
     "name": "stdout",
     "output_type": "stream",
     "text": [
      "env: AIIDA_PATH=/home/jyu/micromamba/envs/aiida-sssp-dev/etc/.aiida\n"
     ]
    },
    {
     "data": {
      "application/json": {
       "current_state": "Loaded AiiDA DB environment - profile name: prod-sssp-compare-04-08."
      },
      "text/html": [
       "<p>Loaded AiiDA DB environment - profile name: prod-sssp-compare-04-08.</p>"
      ],
      "text/latex": [
       "Loaded AiiDA DB environment - profile name: prod-sssp-compare-04-08.\n"
      ],
      "text/plain": [
       "Loaded AiiDA DB environment - profile name: prod-sssp-compare-04-08.\n"
      ]
     },
     "execution_count": 1,
     "metadata": {},
     "output_type": "execute_result"
    }
   ],
   "source": [
    "%env AIIDA_PATH=/home/jyu/micromamba/envs/aiida-sssp-dev/etc/.aiida\n",
    "\n",
    "%load_ext aiida\n",
    "%aiida"
   ]
  },
  {
   "cell_type": "code",
   "execution_count": 2,
   "metadata": {},
   "outputs": [
    {
     "data": {
      "text/plain": [
       "Profile<uuid='14f03741f5cf47d0914ad118cf51a48a' name='prod-sssp-compare-04-08'>"
      ]
     },
     "execution_count": 2,
     "metadata": {},
     "output_type": "execute_result"
    }
   ],
   "source": [
    "from aiida import load_profile\n",
    "\n",
    "load_profile(\"prod-sssp-compare-04-08\")"
   ]
  },
  {
   "cell_type": "code",
   "execution_count": 3,
   "metadata": {},
   "outputs": [],
   "source": [
    "import json\n",
    "with open(\"../sssp_paper_plots/library-data/results-oxides-verification-PBE-v1-quantum_espresso-SSSP-1.3-PBE-precision.json\", \"r\") as f:\n",
    "    acwf_oxides_results = json.load(f)\n",
    "    \n",
    "with open(\"../sssp_paper_plots/library-data/results-unaries-verification-PBE-v1-quantum_espresso-SSSP-1.3-PBE-precision.json\", \"r\") as f:\n",
    "    acwf_unaries_results = json.load(f)"
   ]
  },
  {
   "cell_type": "code",
   "execution_count": 4,
   "metadata": {},
   "outputs": [],
   "source": [
    "# create group \n",
    "from aiida import orm\n",
    "try:\n",
    "    group = orm.Group(label='sssp-prec-1.3.0-PBE').store()\n",
    "except:\n",
    "    # group already exists\n",
    "    group = orm.load_group(label='sssp-prec-1.3.0-PBE')"
   ]
  },
  {
   "cell_type": "code",
   "execution_count": 5,
   "metadata": {},
   "outputs": [
    {
     "name": "stdout",
     "output_type": "stream",
     "text": [
      "Warning: Bk is not supported yet\n",
      "Warning: Ce is not supported yet\n",
      "Warning: Cf is not supported yet\n",
      "Warning: Dy is not supported yet\n",
      "Warning: Er is not supported yet\n",
      "Warning: Es is not supported yet\n",
      "Warning: Eu is not supported yet\n",
      "Warning: Fm is not supported yet\n",
      "Warning: Gd is not supported yet\n",
      "Warning: Ho is not supported yet\n",
      "Warning: La is not supported yet\n",
      "Warning: Lr is not supported yet\n",
      "Warning: Lu is not supported yet\n",
      "Warning: Md is not supported yet\n",
      "Warning: Nd is not supported yet\n",
      "Warning: No is not supported yet\n",
      "Warning: Pm is not supported yet\n",
      "Warning: Pr is not supported yet\n",
      "Warning: Sm is not supported yet\n",
      "Warning: Tb is not supported yet\n",
      "Warning: Tm is not supported yet\n",
      "Warning: Yb is not supported yet\n"
     ]
    }
   ],
   "source": [
    "import json\n",
    "\n",
    "# Add notes to group by element-library mapping\n",
    "# the key is the elenment symbol, the value is the library name contained in the label name: `sg15` or `oncvpsp4.dojo` depending on the details of how the name is \n",
    "# distinctively constructed.\n",
    "# Support the wildcard `%` and `_` for directly used in AiiDA QueryBuilder\n",
    "SSSP_PREC_1_3_0_PBE_ELEMENT_LIBRARY_MAPPING ={\n",
    "}\n",
    "\n",
    "MISSING_ELEMENTS = ['At', 'Fr', 'Ra', 'Ac', 'Th', 'Pa', 'U', 'Np', 'Pu', 'Am', 'Cm', 'Cd'] # remove Cd for now\n",
    "LANTHANIUM_ELEMENTS = ['La', 'Ce', 'Pr', 'Nd', 'Pm', 'Sm', 'Eu', 'Gd', 'Tb', 'Dy', 'Ho', 'Er', 'Tm', 'Yb', 'Lu']\n",
    "MISSING_ELEMENTS.extend(LANTHANIUM_ELEMENTS)\n",
    "\n",
    "with open('../libraries-pbe/MIX-SSSP-precision-1.3.0-recollected/SSSP_1.3.0_PBE_precision.json') as f:\n",
    "    data = json.load(f)\n",
    "    \n",
    "def pseudo2name(pseudo):\n",
    "    if pseudo.startswith('SG15'):\n",
    "        return 'oncvpsp3.sg15'\n",
    "    elif pseudo.startswith('GBRV'):\n",
    "        return 'uspp.gbrv'\n",
    "    elif pseudo == '100PAW':\n",
    "        return 'paw.%.psl.v1.0.0-high'\n",
    "    elif pseudo == '100US':\n",
    "        return 'us.%.psl.v1.0.0-high'\n",
    "    elif pseudo == '031US':\n",
    "        return 'us.%.psl.v0.%'\n",
    "    elif pseudo == '031PAW':\n",
    "        return 'paw.%.psl.v0.%'\n",
    "    elif pseudo == 'Dojo':\n",
    "        return 'oncvpsp3.dojo'\n",
    "    elif pseudo == '100PAW-low':\n",
    "        return 'paw.%.psl.v1.0.0-low'\n",
    "    elif pseudo == 'US100-low': # typo in the original file\n",
    "        return 'us.%.psl.v1.0.0-low'\n",
    "    \n",
    "    \n",
    "for element, d in data.items():\n",
    "    if element in MISSING_ELEMENTS:\n",
    "        continue\n",
    "    lib_str = pseudo2name(d['pseudopotential'])\n",
    "    if lib_str is None:\n",
    "        print(f\"Warning: {element} is not supported yet\")\n",
    "        continue\n",
    "    SSSP_PREC_1_3_0_PBE_ELEMENT_LIBRARY_MAPPING[element] = lib_str\n",
    "    \n",
    "    \n",
    "# use the Dojo 0.5 for Ba\n",
    "SSSP_PREC_1_3_0_PBE_ELEMENT_LIBRARY_MAPPING['Ba'] = 'oncvpsp4.dojo.%v0.5.0'\n",
    "\n",
    "# I is regenerated using oncvpsp4.sg15\n",
    "SSSP_PREC_1_3_0_PBE_ELEMENT_LIBRARY_MAPPING['I'] = 'oncvpsp4.sg15'"
   ]
  },
  {
   "cell_type": "code",
   "execution_count": 6,
   "metadata": {},
   "outputs": [
    {
     "data": {
      "text/plain": [
       "{'Ag': 'oncvpsp3.sg15',\n",
       " 'Al': 'paw.%.psl.v1.0.0-high',\n",
       " 'Ar': 'paw.%.psl.v1.0.0-high',\n",
       " 'As': 'oncvpsp3.dojo',\n",
       " 'Au': 'oncvpsp3.sg15',\n",
       " 'B': 'uspp.gbrv',\n",
       " 'Ba': 'oncvpsp4.dojo.%v0.5.0',\n",
       " 'Be': 'oncvpsp3.sg15',\n",
       " 'Bi': 'uspp.gbrv',\n",
       " 'Br': 'uspp.gbrv',\n",
       " 'C': 'paw.%.psl.v1.0.0-high',\n",
       " 'Ca': 'uspp.gbrv',\n",
       " 'Cl': 'us.%.psl.v1.0.0-high',\n",
       " 'Co': 'uspp.gbrv',\n",
       " 'Cr': 'uspp.gbrv',\n",
       " 'Cs': 'oncvpsp3.dojo',\n",
       " 'Cu': 'paw.%.psl.v1.0.0-low',\n",
       " 'F': 'oncvpsp3.dojo',\n",
       " 'Fe': 'paw.%.psl.v0.%',\n",
       " 'Ga': 'paw.%.psl.v1.0.0-high',\n",
       " 'Ge': 'uspp.gbrv',\n",
       " 'H': 'oncvpsp3.sg15',\n",
       " 'He': 'oncvpsp3.sg15',\n",
       " 'Hf': 'oncvpsp3.dojo',\n",
       " 'Hg': 'uspp.gbrv',\n",
       " 'I': 'oncvpsp4.sg15',\n",
       " 'In': 'us.%.psl.v0.%',\n",
       " 'Ir': 'us.%.psl.v1.0.0-high',\n",
       " 'K': 'paw.%.psl.v1.0.0-high',\n",
       " 'Kr': 'paw.%.psl.v1.0.0-high',\n",
       " 'Li': 'uspp.gbrv',\n",
       " 'Mg': 'uspp.gbrv',\n",
       " 'Mn': 'uspp.gbrv',\n",
       " 'Mo': 'oncvpsp3.sg15',\n",
       " 'N': 'oncvpsp3.dojo',\n",
       " 'Na': 'paw.%.psl.v1.0.0-low',\n",
       " 'Nb': 'paw.%.psl.v0.%',\n",
       " 'Ne': 'paw.%.psl.v1.0.0-high',\n",
       " 'Ni': 'uspp.gbrv',\n",
       " 'O': 'paw.%.psl.v0.%',\n",
       " 'Os': 'uspp.gbrv',\n",
       " 'P': 'us.%.psl.v1.0.0-high',\n",
       " 'Pb': 'paw.%.psl.v0.%',\n",
       " 'Pd': 'oncvpsp3.sg15',\n",
       " 'Po': 'us.%.psl.v1.0.0-high',\n",
       " 'Pt': 'us.%.psl.v1.0.0-high',\n",
       " 'Rb': 'oncvpsp3.sg15',\n",
       " 'Re': 'uspp.gbrv',\n",
       " 'Rh': 'oncvpsp3.sg15',\n",
       " 'Rn': 'paw.%.psl.v1.0.0-high',\n",
       " 'Ru': 'oncvpsp3.sg15',\n",
       " 'S': 'uspp.gbrv',\n",
       " 'Sb': 'uspp.gbrv',\n",
       " 'Sc': 'paw.%.psl.v0.%',\n",
       " 'Se': 'uspp.gbrv',\n",
       " 'Si': 'us.%.psl.v1.0.0-high',\n",
       " 'Sn': 'uspp.gbrv',\n",
       " 'Sr': 'uspp.gbrv',\n",
       " 'Ta': 'uspp.gbrv',\n",
       " 'Tc': 'oncvpsp3.sg15',\n",
       " 'Te': 'us.%.psl.v1.0.0-low',\n",
       " 'Ti': 'uspp.gbrv',\n",
       " 'Tl': 'uspp.gbrv',\n",
       " 'V': 'uspp.gbrv',\n",
       " 'W': 'uspp.gbrv',\n",
       " 'Xe': 'paw.%.psl.v1.0.0-high',\n",
       " 'Y': 'uspp.gbrv',\n",
       " 'Zn': 'uspp.gbrv',\n",
       " 'Zr': 'uspp.gbrv'}"
      ]
     },
     "execution_count": 6,
     "metadata": {},
     "output_type": "execute_result"
    }
   ],
   "source": [
    "SSSP_PREC_1_3_0_PBE_ELEMENT_LIBRARY_MAPPING"
   ]
  },
  {
   "cell_type": "code",
   "execution_count": 7,
   "metadata": {},
   "outputs": [],
   "source": [
    "def find_node_by_element_lib(element, lib_str):\n",
    "    qb = orm.QueryBuilder()\n",
    "    qb.append(orm.WorkChainNode, filters={'extras.label': {'ilike': f'% {element}.%{lib_str}%'}})\n",
    "    nodes = qb.all(flat=True)\n",
    "\n",
    "    if len(nodes) == 0:\n",
    "        raise Exception(f\"No nodes found for {element} with {lib_str}. Check the mapping and the query.\")\n",
    "    elif len(nodes) > 1:\n",
    "        if element == 'Cd':\n",
    "            # there are two, redandant, nodes for Cd\n",
    "            node = nodes[0]\n",
    "            return node\n",
    "            \n",
    "        raise Exception(f\"More than one node found for {element} with {lib_str}. Check the mapping and the query.\")\n",
    "    else:\n",
    "        node = nodes[0]\n",
    "        \n",
    "    return node"
   ]
  },
  {
   "cell_type": "code",
   "execution_count": 8,
   "metadata": {},
   "outputs": [],
   "source": [
    "for key, value in SSSP_PREC_1_3_0_PBE_ELEMENT_LIBRARY_MAPPING.items():\n",
    "    node = find_node_by_element_lib(key, value)\n",
    "    group.add_nodes(node)"
   ]
  },
  {
   "cell_type": "code",
   "execution_count": null,
   "metadata": {},
   "outputs": [],
   "source": [
    "# For test\n",
    "# element = 'Cd'\n",
    "# lib_str = 'oncvpsp3.sg15'\n",
    "# qb = orm.QueryBuilder()\n",
    "# qb.append(orm.WorkChainNode, filters={'extras.label': {'ilike': f'% {element}.%{lib_str}%'}})\n",
    "# nodes = qb.all(flat=True)"
   ]
  },
  {
   "cell_type": "code",
   "execution_count": null,
   "metadata": {},
   "outputs": [],
   "source": []
  },
  {
   "cell_type": "code",
   "execution_count": 9,
   "metadata": {},
   "outputs": [
    {
     "data": {
      "text/plain": [
       "69"
      ]
     },
     "execution_count": 9,
     "metadata": {},
     "output_type": "execute_result"
    }
   ],
   "source": [
    "len(list(group.nodes))"
   ]
  },
  {
   "cell_type": "code",
   "execution_count": 10,
   "metadata": {},
   "outputs": [
    {
     "name": "stdout",
     "output_type": "stream",
     "text": [
      "Warning: Al BCC not found, get from acwf results for the moment\n",
      "Warning: Al FCC not found, get from acwf results for the moment\n",
      "Warning: B BCC not found, get from acwf results for the moment\n",
      "Warning: B FCC not found, get from acwf results for the moment\n",
      "Warning: K BCC not found, get from acwf results for the moment\n",
      "Warning: K FCC not found, get from acwf results for the moment\n",
      "Warning: Li BCC not found, get from acwf results for the moment\n",
      "Warning: Li FCC not found, get from acwf results for the moment\n",
      "Warning: Ba FCC not found, get from acwf results for the moment\n",
      "Warning: Be BCC not found, get from acwf results for the moment\n",
      "Warning: Be FCC not found, get from acwf results for the moment\n",
      "Warning: C BCC not found, get from acwf results for the moment\n",
      "Warning: C FCC not found, get from acwf results for the moment\n",
      "Warning: Ca BCC not found, get from acwf results for the moment\n",
      "Warning: Ca FCC not found, get from acwf results for the moment\n",
      "Warning: Mg BCC not found, get from acwf results for the moment\n",
      "Warning: N Diamond not found, get from acwf results for the moment\n",
      "Warning: P Diamond not found, get from acwf results for the moment\n",
      "Warning: Cr FCC not found, get from acwf results for the moment\n",
      "Warning: F BCC not found, get from acwf results for the moment\n",
      "Warning: Fe BCC not found, get from acwf results for the moment\n",
      "Warning: H BCC not found, get from acwf results for the moment\n",
      "Warning: H FCC not found, get from acwf results for the moment\n",
      "Warning: H Diamond not found, get from acwf results for the moment\n",
      "Warning: H SC not found, get from acwf results for the moment\n",
      "Warning: He BCC not found, get from acwf results for the moment\n",
      "Warning: He FCC not found, get from acwf results for the moment\n",
      "Warning: He Diamond not found, get from acwf results for the moment\n",
      "Warning: Rb BCC not found, get from acwf results for the moment\n",
      "Warning: Rb FCC not found, get from acwf results for the moment\n",
      "Warning: Rb Diamond not found, get from acwf results for the moment\n",
      "Warning: Rb SC not found, get from acwf results for the moment\n",
      "Warning: Si BCC not found, get from acwf results for the moment\n",
      "Warning: Si FCC not found, get from acwf results for the moment\n",
      "Warning: Sr FCC not found, get from acwf results for the moment\n"
     ]
    }
   ],
   "source": [
    "all_unaries_results = {\n",
    "    \"BM_fit_data\": {},\n",
    "    \"num_atoms_in_sim_cell\": {},\n",
    "    'script_version': '0.0.4',\n",
    "}\n",
    "\n",
    "for n in group.nodes:\n",
    "    delta_res = n.outputs.accuracy.delta\n",
    "    element = n.base.extras.get('element')\n",
    "\n",
    "    # unaries\n",
    "    for conf in [\"BCC\", \"FCC\", \"Diamond\", \"SC\"]:\n",
    "        try:\n",
    "            res = delta_res[conf].output_parameters.get_dict()\n",
    "            V0, B0, B1 = res[\"birch_murnaghan_results\"]\n",
    "            \n",
    "            all_unaries_results[\"BM_fit_data\"][f\"{element}-X/{conf}\"] = {\n",
    "                \"E0\": 0,\n",
    "                \"bulk_deriv\": B1,\n",
    "                \"bulk_modulus_ev_ang3\": B0,\n",
    "                \"min_volume\": V0,\n",
    "                \"residuals\": 0\n",
    "            }\n",
    "            all_unaries_results[\"num_atoms_in_sim_cell\"][f\"{element}-X/{conf}\"] = res[\"natoms\"]\n",
    "        except:\n",
    "            print(f\"Warning: {element} {conf} not found, get from acwf results for the moment\")\n",
    "            all_unaries_results[\"BM_fit_data\"][f\"{element}-X/{conf}\"] = acwf_unaries_results[\"BM_fit_data\"][f\"{element}-X/{conf}\"]\n",
    "            all_unaries_results[\"num_atoms_in_sim_cell\"][f\"{element}-X/{conf}\"] = acwf_unaries_results[\"num_atoms_in_sim_cell\"][f\"{element}-X/{conf}\"]"
   ]
  },
  {
   "cell_type": "code",
   "execution_count": 11,
   "metadata": {},
   "outputs": [],
   "source": [
    "# Missing elements\n",
    "for element in MISSING_ELEMENTS:\n",
    "    for conf in [\"BCC\", \"FCC\", \"Diamond\", \"SC\"]:\n",
    "        all_unaries_results[\"BM_fit_data\"][f\"{element}-X/{conf}\"] = acwf_unaries_results[\"BM_fit_data\"][f\"{element}-X/{conf}\"]\n",
    "        all_unaries_results[\"num_atoms_in_sim_cell\"][f\"{element}-X/{conf}\"] = acwf_unaries_results[\"num_atoms_in_sim_cell\"][f\"{element}-X/{conf}\"]"
   ]
  },
  {
   "cell_type": "code",
   "execution_count": 12,
   "metadata": {},
   "outputs": [],
   "source": [
    "with open(\"results-unaries-verification-PBE-v1-quantum_espresso-SSSP-1.3.0-PBE-precision-tmp.json\", \"w\") as f:\n",
    "    json.dump(all_unaries_results, f, indent=4)"
   ]
  },
  {
   "cell_type": "code",
   "execution_count": 13,
   "metadata": {},
   "outputs": [
    {
     "name": "stdout",
     "output_type": "stream",
     "text": [
      "Warning: B XO not found, get from acwf results for the moment\n",
      "Warning: Li XO not found, get from acwf results for the moment\n",
      "Warning: Be XO not found, get from acwf results for the moment\n",
      "Warning: C XO not found, get from acwf results for the moment\n",
      "Warning: Mn XO3 not found, get from acwf results for the moment\n",
      "Warning: O XO not found, get from acwf results for the moment\n",
      "Warning: O XO2 not found, get from acwf results for the moment\n",
      "Warning: O XO3 not found, get from acwf results for the moment\n",
      "Warning: O X2O not found, get from acwf results for the moment\n",
      "Warning: O X2O3 not found, get from acwf results for the moment\n",
      "Warning: O X2O5 not found, get from acwf results for the moment\n",
      "Warning: Pb X2O not found, get from acwf results for the moment\n",
      "Warning: Co X2O not found, get from acwf results for the moment\n",
      "Warning: F XO not found, get from acwf results for the moment\n",
      "Warning: He X2O not found, get from acwf results for the moment\n",
      "Warning: Pt XO3 not found, get from acwf results for the moment\n",
      "Warning: Pt X2O not found, get from acwf results for the moment\n",
      "Warning: Rb XO3 not found, get from acwf results for the moment\n",
      "Warning: Rb X2O not found, get from acwf results for the moment\n",
      "Warning: Rb X2O3 not found, get from acwf results for the moment\n",
      "Warning: Rb X2O5 not found, get from acwf results for the moment\n",
      "Warning: Si XO not found, get from acwf results for the moment\n",
      "Warning: Si XO3 not found, get from acwf results for the moment\n",
      "Warning: W X2O5 not found, get from acwf results for the moment\n"
     ]
    }
   ],
   "source": [
    "all_oxides_results = {\n",
    "    \"BM_fit_data\": {},\n",
    "    \"num_atoms_in_sim_cell\": {},\n",
    "    'script_version': '0.0.4',\n",
    "}\n",
    "\n",
    "for n in group.nodes:\n",
    "    delta_res = n.outputs.accuracy.delta\n",
    "    element = n.base.extras.get('element')\n",
    "\n",
    "    # unaries\n",
    "    for conf in [\"XO\", \"XO2\", \"XO3\", \"X2O\", \"X2O3\", \"X2O5\"]:\n",
    "        try:\n",
    "            res = delta_res[conf].output_parameters.get_dict()\n",
    "            V0, B0, B1 = res[\"birch_murnaghan_results\"]\n",
    "            \n",
    "            all_oxides_results[\"BM_fit_data\"][f\"{element}-{conf}\"] = {\n",
    "                \"E0\": 0,\n",
    "                \"bulk_deriv\": B1,\n",
    "                \"bulk_modulus_ev_ang3\": B0,\n",
    "                \"min_volume\": V0,\n",
    "                \"residuals\": 0\n",
    "            }\n",
    "            all_oxides_results[\"num_atoms_in_sim_cell\"][f\"{element}-{conf}\"] = res[\"natoms\"]\n",
    "        except:\n",
    "            print(f\"Warning: {element} {conf} not found, get from acwf results for the moment\")\n",
    "            all_oxides_results[\"BM_fit_data\"][f\"{element}-{conf}\"] = acwf_oxides_results[\"BM_fit_data\"][f\"{element}-{conf}\"]\n",
    "            all_oxides_results[\"num_atoms_in_sim_cell\"][f\"{element}-{conf}\"] = acwf_oxides_results[\"num_atoms_in_sim_cell\"][f\"{element}-{conf}\"]"
   ]
  },
  {
   "cell_type": "code",
   "execution_count": 14,
   "metadata": {},
   "outputs": [],
   "source": [
    "# Missing elements\n",
    "for element in MISSING_ELEMENTS:\n",
    "    for conf in [\"XO\", \"XO2\", \"XO3\", \"X2O\", \"X2O3\", \"X2O5\"]:\n",
    "        all_oxides_results[\"BM_fit_data\"][f\"{element}-{conf}\"] = acwf_oxides_results[\"BM_fit_data\"][f\"{element}-{conf}\"]\n",
    "        all_oxides_results[\"num_atoms_in_sim_cell\"][f\"{element}-{conf}\"] = acwf_oxides_results[\"num_atoms_in_sim_cell\"][f\"{element}-{conf}\"]"
   ]
  },
  {
   "cell_type": "code",
   "execution_count": 15,
   "metadata": {},
   "outputs": [],
   "source": [
    "with open(\"results-oxides-verification-PBE-v1-quantum_espresso-SSSP-1.3.0-PBE-precision-tmp.json\", \"w\") as f:\n",
    "    json.dump(all_oxides_results, f, indent=4)"
   ]
  },
  {
   "cell_type": "code",
   "execution_count": null,
   "metadata": {},
   "outputs": [],
   "source": []
  }
 ],
 "metadata": {
  "kernelspec": {
   "display_name": "Python 3",
   "language": "python",
   "name": "python3"
  },
  "language_info": {
   "codemirror_mode": {
    "name": "ipython",
    "version": 3
   },
   "file_extension": ".py",
   "mimetype": "text/x-python",
   "name": "python",
   "nbconvert_exporter": "python",
   "pygments_lexer": "ipython3",
   "version": "3.9.16"
  },
  "orig_nbformat": 4
 },
 "nbformat": 4,
 "nbformat_minor": 2
}
