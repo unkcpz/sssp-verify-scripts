{
 "cells": [
  {
   "cell_type": "code",
   "execution_count": 1,
   "metadata": {},
   "outputs": [
    {
     "name": "stdout",
     "output_type": "stream",
     "text": [
      "env: AIIDA_PATH=/home/jyu/.aiida\n",
      "\u001b[93m\u001b[1mWarning\u001b[0m: \u001b[22mYou are currently using a post release development version of AiiDA: 2.3.1.post0\u001b[0m\n",
      "\u001b[93m\u001b[1mWarning\u001b[0m: \u001b[22mBe aware that this is not recommended for production and is not officially supported.\u001b[0m\n",
      "\u001b[93m\u001b[1mWarning\u001b[0m: \u001b[22mDatabases used with this version may not be compatible with future releases of AiiDA\u001b[0m\n",
      "\u001b[93m\u001b[1mWarning\u001b[0m: \u001b[22mas you might not be able to automatically migrate your data.\n",
      "\u001b[0m\n"
     ]
    },
    {
     "data": {
      "application/json": {
       "current_state": "Loaded AiiDA DB environment - profile name: convergence-exp."
      },
      "text/html": [
       "<p>Loaded AiiDA DB environment - profile name: convergence-exp.</p>"
      ],
      "text/latex": [
       "Loaded AiiDA DB environment - profile name: convergence-exp.\n"
      ],
      "text/plain": [
       "Loaded AiiDA DB environment - profile name: convergence-exp.\n"
      ]
     },
     "execution_count": 1,
     "metadata": {},
     "output_type": "execute_result"
    }
   ],
   "source": [
    "%env AIIDA_PATH=/home/jyu/.aiida\n",
    "\n",
    "%load_ext aiida\n",
    "%aiida"
   ]
  },
  {
   "cell_type": "code",
   "execution_count": 2,
   "metadata": {},
   "outputs": [
    {
     "name": "stdout",
     "output_type": "stream",
     "text": [
      "\u001b[93m\u001b[1mWarning\u001b[0m: \u001b[22mYou are currently using a post release development version of AiiDA: 2.3.1.post0\u001b[0m\n",
      "\u001b[93m\u001b[1mWarning\u001b[0m: \u001b[22mBe aware that this is not recommended for production and is not officially supported.\u001b[0m\n",
      "\u001b[93m\u001b[1mWarning\u001b[0m: \u001b[22mDatabases used with this version may not be compatible with future releases of AiiDA\u001b[0m\n",
      "\u001b[93m\u001b[1mWarning\u001b[0m: \u001b[22mas you might not be able to automatically migrate your data.\n",
      "\u001b[0m\n"
     ]
    },
    {
     "data": {
      "text/plain": [
       "Profile<uuid='ab7d487413424c23893e300b2877fd57' name='convergence-exp-01'>"
      ]
     },
     "execution_count": 2,
     "metadata": {},
     "output_type": "execute_result"
    }
   ],
   "source": [
    "from aiida import load_profile\n",
    "\n",
    "load_profile(\"convergence-exp-01\")"
   ]
  },
  {
   "cell_type": "code",
   "execution_count": 3,
   "metadata": {},
   "outputs": [],
   "source": [
    "psp_time = {}"
   ]
  },
  {
   "cell_type": "code",
   "execution_count": 4,
   "metadata": {},
   "outputs": [
    {
     "name": "stdout",
     "output_type": "stream",
     "text": [
      "Si.paw.z_4.ld1.psl.v1.0.0-high: Total time: 0.38403333333333345 hours\n",
      "Cs.paw.z_9.ld1.psl.v1.0.0-high: Total time: 1.136216666666666 hours\n",
      "Cu.paw.z_19.ld1.psl.v1.0.0-high: Total time: 0.6278916666666668 hours\n",
      "Fe.paw.z_16.ld1.psl.v1.0.0-high: Total time: 8.035030555555556 hours\n",
      "Te.paw.z_16.ld1.psl.v1.0.0-high: Total time: 1.4899777777777787 hours\n",
      "Hf.paw.z_26.ld1.psl.v1.0.0-high.spfn: Total time: 7.40445833333333 hours\n",
      "Sn.paw.z_14.ld1.psl.v1.0.0-high: Total time: 0.49320277777777805 hours\n",
      "Ar.paw.z_8.ld1.psl.v1.0.0-high: Total time: 0.31736944444444437 hours\n",
      "U.paw.z_14.ld1.psl.v1.0.0-high: Total time: 24.402761111111097 hours\n",
      "Si.nc.z_4.oncvpsp3.dojo.v0.4.1-std: Total time: 0.17425277777777762 hours\n",
      "Cs.nc.z_9.oncvpsp3.dojo.v0.4.1-std: Total time: 0.18739166666666648 hours\n",
      "Cu.nc.z_19.oncvpsp3.dojo.v0.4.1-std: Total time: 0.3519416666666667 hours\n",
      "Fe.nc.z_16.oncvpsp3.dojo.v0.4.1-std: Total time: 0.7484916666666664 hours\n",
      "Te.nc.z_16.oncvpsp3.dojo.v0.4.1-std: Total time: 0.6233611111111114 hours\n",
      "Hf.nc.z_12.oncvpsp3.dojo.v0.4.1-std: Total time: 0.34063333333333345 hours\n",
      "Sn.nc.z_14.oncvpsp3.dojo.v0.4.1-std: Total time: 0.2091972222222223 hours\n",
      "Ar.nc.z_8.oncvpsp3.dojo.v0.4.1-std: Total time: 0.1854555555555554 hours\n"
     ]
    }
   ],
   "source": [
    "# GS (delta, pressure, cohesive energy)\n",
    "from aiida import orm\n",
    "calcs = [\n",
    "    \"6fe65af0-423d-4ec9-ab83-98cf50278b31\",\n",
    "    \"6ded33df-7f53-45f7-a097-897214facdc4\",\n",
    "    \"ff7df2bf-1163-45c6-952b-b56a65e57750\",\n",
    "    \"17612ef4-d787-42d6-ab3b-cdd794830561\",\n",
    "    \"8018b269-fa02-4643-a807-d9f385d8752f\",\n",
    "    \"50c9ec73-11d2-4190-910d-2e10d28b3b33\",\n",
    "    \"ab5ce9e8-3085-409b-9427-2c4e6dac26a1\",\n",
    "    \"f363308f-bf70-4d25-99d7-6a4e50fd264f\",\n",
    "    \"82844cca-eec1-4ea1-9f18-b7b20d4c94ce\",\n",
    "    \"93ade884-6db1-441b-bd41-8bf147c50cc4\",\n",
    "    \"7aa5a79e-2f26-4e46-b375-82b477817ba8\",\n",
    "    \"6eeb43e2-c7c7-4cd9-93ea-f237bfcca4e9\",\n",
    "    \"c76e3409-7422-4401-bbfa-5ae98e9db801\",\n",
    "    \"43b808d8-f155-46e7-8786-c2c39e54c1dc\",\n",
    "    \"599ec9fd-90e1-4fe9-a40d-8e3132368df7\",\n",
    "    \"3105d318-3a51-439a-84fb-30c8d5912ed8\",\n",
    "    \"3afd1a88-7b18-453e-9a68-f2653aab46bc\",                                                                                  \n",
    "]\n",
    "for calc in calcs:\n",
    "    data = {}\n",
    "    n = orm.load_node(calc)\n",
    "    label = n.base.extras.all['label'].split(' ')[-1]\n",
    "    \n",
    "    tot_time_s = 0\n",
    "    for descendant_node in n.called_descendants:\n",
    "        if isinstance(descendant_node, orm.CalcJobNode):\n",
    "            try:\n",
    "                time1 = descendant_node.outputs.output_parameters.get_dict()['wall_time_seconds']\n",
    "            except:\n",
    "                time1 = 0.0\n",
    "                \n",
    "            try:\n",
    "                time2 = descendant_node.outputs.output_parameters.get_dict()['init_wall_time_seconds']\n",
    "            except:\n",
    "                # print(f\"{label}: {descendant_node.pk} has no init_wall_time_seconds\")\n",
    "                time2 = 0.0\n",
    "            tot_time_s += time1 + time2\n",
    "            \n",
    "    print(f\"{label}: Total time: {tot_time_s/3600} hours\")\n",
    "    psp_time[label] = tot_time_s/3600"
   ]
  },
  {
   "cell_type": "code",
   "execution_count": 5,
   "metadata": {},
   "outputs": [
    {
     "name": "stdout",
     "output_type": "stream",
     "text": [
      "Si.paw.z_4.ld1.psl.v1.0.0-high: Total time: 0.9356666666666662 hours\n",
      "Cs.paw.z_9.ld1.psl.v1.0.0-high: Total time: 0.9585166666666666 hours\n",
      "Cu.paw.z_19.ld1.psl.v1.0.0-high: Total time: 2.0313361111111106 hours\n",
      "Fe.paw.z_16.ld1.psl.v1.0.0-high: Total time: 1.2617861111111106 hours\n",
      "Te.paw.z_16.ld1.psl.v1.0.0-high: Total time: 6.644613888888884 hours\n",
      "Hf.paw.z_26.ld1.psl.v1.0.0-high.spfn: Total time: 6.723488888888889 hours\n",
      "Sn.paw.z_14.ld1.psl.v1.0.0-high: Total time: 2.1169277777777777 hours\n",
      "Ar.paw.z_8.ld1.psl.v1.0.0-high: Total time: 0.7407666666666664 hours\n",
      "U.paw.z_14.ld1.psl.v1.0.0-high: Total time: 0.7083638888888887 hours\n",
      "Si.nc.z_4.oncvpsp3.dojo.v0.4.1-std: Total time: 0.8003777777777776 hours\n",
      "Cs.nc.z_9.oncvpsp3.dojo.v0.4.1-std: Total time: 0.3901194444444445 hours\n",
      "Cu.nc.z_19.oncvpsp3.dojo.v0.4.1-std: Total time: 1.9749972222222216 hours\n",
      "Fe.nc.z_16.oncvpsp3.dojo.v0.4.1-std: Total time: 0.7606888888888887 hours\n",
      "Te.nc.z_16.oncvpsp3.dojo.v0.4.1-std: Total time: 5.71441388888889 hours\n",
      "Hf.nc.z_12.oncvpsp3.dojo.v0.4.1-std: Total time: 1.198916666666667 hours\n",
      "Sn.nc.z_14.oncvpsp3.dojo.v0.4.1-std: Total time: 2.376827777777778 hours\n",
      "Ar.nc.z_8.oncvpsp3.dojo.v0.4.1-std: Total time: 0.6545722222222221 hours\n"
     ]
    }
   ],
   "source": [
    "# GS\n",
    "from aiida import orm\n",
    "calcs = [\n",
    "\"9be47ee3-82e6-411c-be0d-46a4a2da688f\", # (acwf-efficiency-standard at eiger-mc-mr32-mem - None) Si.paw.z_4.ld1.psl.v1.0.0-high (['convergence.phonon_frequencies', 'convergence.bands'])                                        0\n",
    "\"a4c18472-27aa-4901-b02c-53634a8e2739\", # (acwf-efficiency-standard at eiger-mc-mr32-mem - None) Cs.paw.z_9.ld1.psl.v1.0.0-high (['convergence.phonon_frequencies', 'convergence.bands'])                                        0\n",
    "\"b8534578-3218-4025-a359-c60fa2b46746\", # (acwf-efficiency-standard at eiger-mc-mr32-mem - None) Cu.paw.z_19.ld1.psl.v1.0.0-high (['convergence.phonon_frequencies', 'convergence.bands'])                                       0\n",
    "\"418cca96-61dd-4715-9eb7-100b18a38b1c\", # (acwf-efficiency-standard at eiger-mc-mr32-mem - None) Fe.paw.z_16.ld1.psl.v1.0.0-high (['convergence.phonon_frequencies', 'convergence.bands'])                                       0\n",
    "\"49558398-54f4-4792-858e-73c9fccaf50d\", # (acwf-efficiency-standard at eiger-mc-mr32-mem - None) Te.paw.z_16.ld1.psl.v1.0.0-high (['convergence.phonon_frequencies', 'convergence.bands'])                                       0\n",
    "\"0465eee6-bb85-4f0c-893c-f826fd242857\", # (acwf-efficiency-standard at eiger-mc-mr32-mem - None) Hf.paw.z_26.ld1.psl.v1.0.0-high.spfn (['convergence.phonon_frequencies', 'convergence.bands'])                                  0\n",
    "\"fae15331-68ab-4bc2-9c66-51398f7fea83\", # (acwf-efficiency-standard at eiger-mc-mr32-mem - None) Sn.paw.z_14.ld1.psl.v1.0.0-high (['convergence.phonon_frequencies', 'convergence.bands'])                                       0\n",
    "\"a2fe1878-f896-4841-a9aa-b90595a1a5cd\", # (acwf-efficiency-standard at eiger-mc-mr32-mem - None) Ar.paw.z_8.ld1.psl.v1.0.0-high (['convergence.phonon_frequencies', 'convergence.bands'])                                        0\n",
    "\"d3ccce64-3cee-4b2a-9a03-0c840176b24d\", # (acwf-efficiency-standard at eiger-mc-mr32-mem - None) U.paw.z_14.ld1.psl.v1.0.0-high (['convergence.phonon_frequencies', 'convergence.bands'])                                        0\n",
    "\"81dcdc8e-1178-4573-877d-864a56eab9e1\", # (acwf-efficiency-standard at eiger-mc-mr32-mem - None) Si.nc.z_4.oncvpsp3.dojo.v0.4.1-std (['convergence.phonon_frequencies', 'convergence.bands'])                                    0\n",
    "\"6088f4ae-253c-4e4c-8230-a127e6634708\", # (acwf-efficiency-standard at eiger-mc-mr32-mem - None) Cs.nc.z_9.oncvpsp3.dojo.v0.4.1-std (['convergence.phonon_frequencies', 'convergence.bands'])                                    0\n",
    "\"e4b01cc3-26f0-4ea8-b7bf-8cb79bc9328b\", # (acwf-efficiency-standard at eiger-mc-mr32-mem - None) Cu.nc.z_19.oncvpsp3.dojo.v0.4.1-std (['convergence.phonon_frequencies', 'convergence.bands'])                                   0\n",
    "\"de3ccac8-aea2-44c7-93ea-fa081b9f9919\", # (acwf-efficiency-standard at eiger-mc-mr32-mem - None) Fe.nc.z_16.oncvpsp3.dojo.v0.4.1-std (['convergence.phonon_frequencies', 'convergence.bands'])                                   0\n",
    "\"7f339cf3-9898-4a97-aa7c-a6c7371cc22c\", # (acwf-efficiency-standard at eiger-mc-mr32-mem - None) Te.nc.z_16.oncvpsp3.dojo.v0.4.1-std (['convergence.phonon_frequencies', 'convergence.bands'])                                   0\n",
    "\"eba1eb6e-c62f-4b74-be4e-9c80038f694e\", # (acwf-efficiency-standard at eiger-mc-mr32-mem - None) Hf.nc.z_12.oncvpsp3.dojo.v0.4.1-std (['convergence.phonon_frequencies', 'convergence.bands'])                                   0\n",
    "\"f8e10a91-4506-4fd9-bb8d-99faad1271e2\", # (acwf-efficiency-standard at eiger-mc-mr32-mem - None) Sn.nc.z_14.oncvpsp3.dojo.v0.4.1-std (['convergence.phonon_frequencies', 'convergence.bands'])                                   0\n",
    "\"478273db-592b-47cf-bd0d-dad6bdcfb056\", # (acwf-efficiency-standard at eiger-mc-mr32-mem - None) Ar.nc.z_8.oncvpsp3.dojo.v0.4.1-std (['convergence.phonon_frequencies', 'convergence.bands'])                                    0\n",
    "]\n",
    "for calc in calcs:\n",
    "    data = {}\n",
    "    n = orm.load_node(calc)\n",
    "    label = n.base.extras.all['label'].split(' ')[-1]\n",
    "    \n",
    "    tot_time_s = 0\n",
    "    for descendant_node in n.called_descendants:\n",
    "        if isinstance(descendant_node, orm.CalcJobNode):\n",
    "            try:\n",
    "                time1 = descendant_node.outputs.output_parameters.get_dict()['wall_time_seconds']\n",
    "            except:\n",
    "                time1 = 0.0\n",
    "                \n",
    "            try:\n",
    "                time2 = descendant_node.outputs.output_parameters.get_dict()['init_wall_time_seconds']\n",
    "            except:\n",
    "                time2 = 0.0\n",
    "            tot_time_s += time1 + time2\n",
    "            \n",
    "    print(f\"{label}: Total time: {tot_time_s/3600} hours\")\n",
    "    psp_time[label] += tot_time_s/3600"
   ]
  },
  {
   "cell_type": "code",
   "execution_count": 6,
   "metadata": {},
   "outputs": [
    {
     "name": "stdout",
     "output_type": "stream",
     "text": [
      "Si.paw: 1.32 hours\n",
      "Cs.paw: 2.09 hours\n",
      "Cu.paw: 2.66 hours\n",
      "Fe.paw: 9.3 hours\n",
      "Te.paw: 8.13 hours\n",
      "Hf.paw: 14.13 hours\n",
      "Sn.paw: 2.61 hours\n",
      "Ar.paw: 1.06 hours\n",
      "U.paw: 25.11 hours\n",
      "Si.nc: 0.97 hours\n",
      "Cs.nc: 0.58 hours\n",
      "Cu.nc: 2.33 hours\n",
      "Fe.nc: 1.51 hours\n",
      "Te.nc: 6.34 hours\n",
      "Hf.nc: 1.54 hours\n",
      "Sn.nc: 2.59 hours\n",
      "Ar.nc: 0.84 hours\n"
     ]
    }
   ],
   "source": [
    "all_time = 0\n",
    "psp_time_dict = {}\n",
    "for psp, time in psp_time.items():\n",
    "    label = \".\".join(psp.split('.')[0:2])\n",
    "    time = round(time, 2)\n",
    "    print(f\"{label}: {time} hours\")\n",
    "    psp_time_dict[label] = time\n",
    "    all_time += time"
   ]
  },
  {
   "cell_type": "code",
   "execution_count": 7,
   "metadata": {},
   "outputs": [
    {
     "name": "stdout",
     "output_type": "stream",
     "text": [
      "U.paw: 25.11 hours\n",
      "Hf.paw: 14.13 hours\n",
      "Fe.paw: 9.3 hours\n",
      "Te.paw: 8.13 hours\n",
      "Te.nc: 6.34 hours\n",
      "Cu.paw: 2.66 hours\n",
      "Sn.paw: 2.61 hours\n",
      "Sn.nc: 2.59 hours\n",
      "Cu.nc: 2.33 hours\n",
      "Cs.paw: 2.09 hours\n",
      "Hf.nc: 1.54 hours\n",
      "Fe.nc: 1.51 hours\n",
      "Si.paw: 1.32 hours\n",
      "Ar.paw: 1.06 hours\n",
      "Si.nc: 0.97 hours\n",
      "Ar.nc: 0.84 hours\n",
      "Cs.nc: 0.58 hours\n"
     ]
    }
   ],
   "source": [
    "sorted_psp_time = sorted(psp_time_dict.items(), key=lambda x: x[1], reverse=True)\n",
    "for psp, time in sorted_psp_time:\n",
    "    print(f\"{psp}: {time} hours\")"
   ]
  },
  {
   "cell_type": "code",
   "execution_count": 8,
   "metadata": {},
   "outputs": [],
   "source": [
    "import json\n",
    "with open('psp_time.json', 'w') as f:\n",
    "    json.dump(psp_time_dict, f)"
   ]
  },
  {
   "cell_type": "code",
   "execution_count": 12,
   "metadata": {},
   "outputs": [
    {
     "data": {
      "text/plain": [
       "0.8148039215686276"
      ]
     },
     "execution_count": 12,
     "metadata": {},
     "output_type": "execute_result"
    }
   ],
   "source": [
    "sum(psp_time_dict.values())/17 /6"
   ]
  },
  {
   "cell_type": "code",
   "execution_count": 8,
   "metadata": {},
   "outputs": [],
   "source": [
    "n = orm.load_node(\"6fe65af0-423d-4ec9-ab83-98cf50278b31\")"
   ]
  },
  {
   "cell_type": "code",
   "execution_count": 33,
   "metadata": {},
   "outputs": [
    {
     "data": {
      "text/plain": [
       "0.8148039215686276"
      ]
     },
     "execution_count": 33,
     "metadata": {},
     "output_type": "execute_result"
    }
   ],
   "source": [
    "all_time/6 / 17"
   ]
  },
  {
   "cell_type": "code",
   "execution_count": 9,
   "metadata": {},
   "outputs": [
    {
     "name": "stdout",
     "output_type": "stream",
     "text": [
      "614021\n",
      "613138\n",
      "613036\n",
      "613130\n",
      "613537\n",
      "612976\n",
      "612841\n",
      "612985\n",
      "612819\n",
      "613916\n",
      "613057\n",
      "613143\n",
      "613488\n",
      "613554\n",
      "613848\n",
      "612986\n",
      "633591\n",
      "642424\n",
      "643605\n",
      "641775\n",
      "643718\n",
      "643472\n",
      "642895\n",
      "647709\n",
      "634551\n",
      "646347\n",
      "646740\n",
      "647420\n",
      "646838\n",
      "647355\n",
      "645316\n",
      "646442\n",
      "646680\n",
      "645224\n",
      "646665\n",
      "635358\n",
      "645832\n",
      "675803\n",
      "675959\n",
      "676636\n",
      "675846\n",
      "670884\n",
      "675840\n",
      "675940\n",
      "671205\n",
      "671489\n",
      "672084\n",
      "671136\n",
      "671475\n",
      "671555\n",
      "672438\n",
      "676548\n",
      "675905\n",
      "676020\n",
      "676491\n",
      "677525\n",
      "676528\n",
      "670734\n",
      "647199\n",
      "646553\n",
      "646982\n",
      "648449\n",
      "646922\n",
      "647482\n",
      "634797\n",
      "675127\n",
      "675413\n",
      "674819\n",
      "675581\n",
      "675239\n",
      "674725\n",
      "671135\n",
      "634883\n",
      "649639\n",
      "649667\n",
      "648555\n",
      "649502\n",
      "647783\n",
      "647919\n",
      "646739\n",
      "645857\n",
      "646945\n",
      "647555\n",
      "644266\n",
      "634122\n",
      "647696\n",
      "644003\n",
      "642828\n",
      "644173\n",
      "643260\n",
      "643325\n",
      "643812\n",
      "634121\n",
      "647797\n",
      "649172\n",
      "648034\n",
      "647843\n",
      "649519\n",
      "635560\n",
      "648026\n",
      "645768\n",
      "647023\n",
      "647176\n",
      "635127\n",
      "647475\n",
      "646270\n",
      "646955\n",
      "648771\n",
      "635456\n",
      "645134\n",
      "649698\n",
      "647880\n",
      "648668\n",
      "646228\n",
      "623620\n",
      "618238\n",
      "622988\n",
      "623475\n",
      "622984\n",
      "623004\n",
      "623375\n",
      "647181\n",
      "647041\n",
      "636477\n",
      "647206\n",
      "646964\n",
      "647266\n",
      "647444\n",
      "646161\n",
      "645891\n",
      "634222\n",
      "647525\n",
      "646604\n",
      "645748\n",
      "645877\n",
      "667032\n",
      "662772\n",
      "667626\n",
      "666828\n",
      "667577\n",
      "667496\n",
      "666738\n",
      "642846\n",
      "643096\n",
      "642889\n",
      "643457\n",
      "634149\n",
      "643083\n",
      "642522\n",
      "657694\n",
      "656154\n",
      "657707\n",
      "656385\n",
      "656484\n",
      "634321\n",
      "657209\n",
      "673759\n",
      "674319\n",
      "674414\n",
      "674087\n",
      "671167\n",
      "674509\n",
      "674468\n",
      "634413\n",
      "634622\n",
      "663034\n",
      "662738\n",
      "634531\n",
      "633083\n",
      "634954\n",
      "634944\n",
      "667869\n",
      "667736\n",
      "661471\n",
      "661084\n",
      "635575\n",
      "632874\n",
      "633255\n",
      "633441\n",
      "633578\n",
      "634603\n",
      "633320\n",
      "632938\n",
      "635341\n",
      "632869\n",
      "634729\n",
      "634150\n",
      "667861\n",
      "668443\n",
      "667764\n",
      "668282\n",
      "668134\n",
      "668445\n",
      "635346\n",
      "635299\n",
      "634270\n",
      "634259\n",
      "662728\n",
      "662242\n",
      "618301\n",
      "618536\n",
      "633962\n",
      "634114\n",
      "668529\n",
      "668364\n",
      "625225\n",
      "618117\n",
      "620611\n",
      "619789\n",
      "619869\n",
      "620487\n",
      "621195\n",
      "617146\n",
      "620715\n",
      "637813\n",
      "626628\n",
      "626192\n",
      "626448\n",
      "666815\n",
      "625749\n",
      "665192\n",
      "624806\n",
      "627030\n",
      "665683\n",
      "626420\n",
      "625818\n",
      "626367\n",
      "664853\n",
      "626018\n",
      "625115\n",
      "624848\n",
      "625855\n",
      "665023\n"
     ]
    }
   ],
   "source": [
    "for descendant_node in n.called_descendants:\n",
    "    if isinstance(descendant_node, orm.CalcJobNode):\n",
    "        print(descendant_node.pk)"
   ]
  },
  {
   "cell_type": "code",
   "execution_count": 10,
   "metadata": {},
   "outputs": [],
   "source": [
    "n = orm.load_node(613537)"
   ]
  },
  {
   "cell_type": "code",
   "execution_count": 12,
   "metadata": {},
   "outputs": [],
   "source": [
    "tot_time_s = n.outputs.output_parameters.get_dict()['wall_time_seconds'] + n.outputs.output_parameters.get_dict()['init_wall_time_seconds']"
   ]
  },
  {
   "cell_type": "code",
   "execution_count": 13,
   "metadata": {},
   "outputs": [
    {
     "data": {
      "text/plain": [
       "4.07"
      ]
     },
     "execution_count": 13,
     "metadata": {},
     "output_type": "execute_result"
    }
   ],
   "source": [
    "tot_time_s"
   ]
  },
  {
   "cell_type": "code",
   "execution_count": 16,
   "metadata": {},
   "outputs": [],
   "source": [
    "n = orm.load_node(\"122997\")"
   ]
  },
  {
   "cell_type": "code",
   "execution_count": 17,
   "metadata": {},
   "outputs": [
    {
     "data": {
      "text/plain": [
       "[<CalcFunctionNode: uuid: fd9fd4c2-b8eb-430a-823a-587cf6e60186 (pk: 137171) (aiida_sssp_workflow.workflows.convergence.phonon_frequencies.helper_phonon_frequencies_difference)>,\n",
       " <CalcFunctionNode: uuid: abea3d36-0ded-469f-a1af-1612d993f2a5 (pk: 136877) (aiida_sssp_workflow.workflows.convergence.phonon_frequencies.helper_phonon_frequencies_difference)>,\n",
       " <CalcFunctionNode: uuid: b9112fc0-60e3-4b12-a099-aaeedde3b60e (pk: 131910) (aiida_sssp_workflow.workflows.convergence.phonon_frequencies.helper_phonon_frequencies_difference)>,\n",
       " <CalcFunctionNode: uuid: 09f9bd02-58db-456b-87f8-fbb2e3e1b664 (pk: 128239) (aiida_sssp_workflow.workflows.convergence.phonon_frequencies.helper_phonon_frequencies_difference)>,\n",
       " <CalcFunctionNode: uuid: 2b4af8b3-8dae-4786-850d-b2498cc04318 (pk: 144330) (aiida_sssp_workflow.workflows.convergence.phonon_frequencies.helper_phonon_frequencies_difference)>,\n",
       " <CalcFunctionNode: uuid: 70598784-7713-4f0c-b0a2-a6e4dd9aea6f (pk: 144615) (aiida_sssp_workflow.workflows.convergence.phonon_frequencies.helper_phonon_frequencies_difference)>,\n",
       " <CalcFunctionNode: uuid: dce0a7a4-c1a8-441c-8bc5-6893fd20fab8 (pk: 134044) (aiida_sssp_workflow.workflows.convergence.phonon_frequencies.helper_phonon_frequencies_difference)>,\n",
       " <CalcFunctionNode: uuid: 7a8ac90a-f16e-4c04-8d8a-a0505cbb52ca (pk: 144645) (aiida_sssp_workflow.workflows.convergence.phonon_frequencies.helper_phonon_frequencies_difference)>,\n",
       " <CalcFunctionNode: uuid: bb1c3109-e394-4838-83d2-1053699b0e92 (pk: 130899) (aiida_sssp_workflow.workflows.convergence.phonon_frequencies.helper_phonon_frequencies_difference)>,\n",
       " <CalcFunctionNode: uuid: f0267544-631e-4af5-b37c-19828cdc4c85 (pk: 129128) (aiida_sssp_workflow.workflows.convergence.phonon_frequencies.helper_phonon_frequencies_difference)>,\n",
       " <CalcFunctionNode: uuid: 591fddeb-d8ed-4c57-8299-7d5c7cb619b2 (pk: 132509) (aiida_sssp_workflow.workflows.convergence.phonon_frequencies.helper_phonon_frequencies_difference)>,\n",
       " <CalcFunctionNode: uuid: d90be750-7359-4360-98b2-a29657c0cacc (pk: 129035) (aiida_sssp_workflow.workflows.convergence.phonon_frequencies.helper_phonon_frequencies_difference)>,\n",
       " <CalcFunctionNode: uuid: 6dc1235f-cbef-4115-9622-d43fddfac476 (pk: 135591) (aiida_sssp_workflow.workflows.convergence.phonon_frequencies.helper_phonon_frequencies_difference)>,\n",
       " <CalcFunctionNode: uuid: c9fb18aa-1dc2-4c81-bdc7-8080a08ff21c (pk: 128991) (aiida_sssp_workflow.workflows.convergence.phonon_frequencies.helper_phonon_frequencies_difference)>,\n",
       " <CalcFunctionNode: uuid: 360e4949-9c33-44ab-9eb0-84f1e57e4f55 (pk: 144378) (aiida_sssp_workflow.workflows.convergence.phonon_frequencies.helper_phonon_frequencies_difference)>,\n",
       " <CalcFunctionNode: uuid: cfd47fd4-d403-46f5-a0b1-00545254d046 (pk: 136990) (aiida_sssp_workflow.utils.convergence_analysis)>,\n",
       " <CalcFunctionNode: uuid: 51b68871-35c4-4344-ac7d-7041232d4656 (pk: 130506) (aiida_sssp_workflow.workflows.convergence.phonon_frequencies.helper_phonon_frequencies_difference)>,\n",
       " <CalcFunctionNode: uuid: bbb7bcef-0de1-4323-9282-da7f80be568b (pk: 144896) (aiida_sssp_workflow.workflows.convergence.phonon_frequencies.helper_phonon_frequencies_difference)>,\n",
       " <CalcFunctionNode: uuid: 7a581300-4f3c-417d-b16f-08855a9f29ad (pk: 144644) (aiida_sssp_workflow.workflows.convergence.phonon_frequencies.helper_phonon_frequencies_difference)>,\n",
       " <CalcFunctionNode: uuid: 455f1e89-d7ed-4299-b205-42420d2e3cc4 (pk: 132438) (aiida_sssp_workflow.workflows.convergence.phonon_frequencies.helper_phonon_frequencies_difference)>,\n",
       " <CalcFunctionNode: uuid: 29c262f2-bd45-4634-a280-80ef3ea44b4e (pk: 134339) (aiida_sssp_workflow.workflows.convergence.phonon_frequencies.helper_phonon_frequencies_difference)>,\n",
       " <CalcFunctionNode: uuid: b5f206d8-ce11-495d-a61d-dc9000be097c (pk: 144879) (aiida_sssp_workflow.utils.convergence_analysis)>,\n",
       " <CalcFunctionNode: uuid: 5f484929-aab1-4f7b-8fe5-c41caceef19f (pk: 136566) (aiida_sssp_workflow.utils.convergence_analysis)>,\n",
       " <CalcFunctionNode: uuid: fdff60d4-d2ac-4563-9dd7-60996dbe4f1c (pk: 136170) (aiida_sssp_workflow.workflows.convergence.phonon_frequencies.helper_phonon_frequencies_difference)>,\n",
       " <CalcFunctionNode: uuid: 34767d99-9911-4d9f-aa54-1dcd0408e47a (pk: 128422) (aiida_sssp_workflow.workflows.convergence.phonon_frequencies.helper_phonon_frequencies_difference)>,\n",
       " <WorkChainNode: uuid: e2bd79ab-439a-4d0e-a60e-b06b3bf13145 (pk: 126074) (aiida_sssp_workflow.workflows.evaluate._phonon_frequencies.PhononFrequenciesWorkChain)>,\n",
       " <WorkChainNode: uuid: 993d1837-156a-47a4-8972-57bde90d98da (pk: 126785) (aiida_sssp_workflow.workflows.evaluate._phonon_frequencies.PhononFrequenciesWorkChain)>,\n",
       " <WorkChainNode: uuid: 78b72e65-bc60-4157-9488-171c5800759a (pk: 126648) (aiida_sssp_workflow.workflows.evaluate._phonon_frequencies.PhononFrequenciesWorkChain)>,\n",
       " <WorkChainNode: uuid: c72c219d-0019-4677-af48-ecf4059e39f4 (pk: 126985) (aiida_sssp_workflow.workflows.evaluate._phonon_frequencies.PhononFrequenciesWorkChain)>,\n",
       " <WorkChainNode: uuid: dafee86c-8ad9-4908-8e3d-c198d5899b06 (pk: 127054) (aiida_sssp_workflow.workflows.evaluate._phonon_frequencies.PhononFrequenciesWorkChain)>,\n",
       " <WorkChainNode: uuid: 2d326d9b-e592-407c-9604-2bd5879af631 (pk: 126369) (aiida_sssp_workflow.workflows.evaluate._phonon_frequencies.PhononFrequenciesWorkChain)>,\n",
       " <WorkChainNode: uuid: a376485c-9ca3-45ab-b8f9-9af7b34b2096 (pk: 126832) (aiida_sssp_workflow.workflows.evaluate._phonon_frequencies.PhononFrequenciesWorkChain)>,\n",
       " <WorkChainNode: uuid: fbe73643-7b29-4543-bb16-3bb98c1f4e4f (pk: 124179) (aiida_sssp_workflow.workflows.evaluate._phonon_frequencies.PhononFrequenciesWorkChain)>,\n",
       " <WorkChainNode: uuid: 50a11585-b9ed-4a9e-81b2-db84c2c9b6a9 (pk: 126500) (aiida_sssp_workflow.workflows.evaluate._phonon_frequencies.PhononFrequenciesWorkChain)>,\n",
       " <WorkChainNode: uuid: 0debba30-09a4-4b69-9467-dff65363f87f (pk: 136245) (aiida_sssp_workflow.workflows.evaluate._phonon_frequencies.PhononFrequenciesWorkChain)>,\n",
       " <WorkChainNode: uuid: 2254a81e-352a-443d-9ff5-c44dc3b28251 (pk: 126323) (aiida_sssp_workflow.workflows.evaluate._phonon_frequencies.PhononFrequenciesWorkChain)>,\n",
       " <WorkChainNode: uuid: 906ea961-670e-46d6-842d-1cb2e0e9e86d (pk: 126753) (aiida_sssp_workflow.workflows.evaluate._phonon_frequencies.PhononFrequenciesWorkChain)>,\n",
       " <WorkChainNode: uuid: 6a69cca9-eb1b-48d4-afd6-4e0dfe335183 (pk: 126598) (aiida_sssp_workflow.workflows.evaluate._phonon_frequencies.PhononFrequenciesWorkChain)>,\n",
       " <WorkChainNode: uuid: aa7180d5-c17e-4bda-bbd5-0e91f8529b55 (pk: 136872) (aiida_sssp_workflow.workflows.evaluate._phonon_frequencies.PhononFrequenciesWorkChain)>,\n",
       " <WorkChainNode: uuid: 365aeeb3-349f-4d76-af20-4dfa338b6c3d (pk: 136398) (aiida_sssp_workflow.workflows.evaluate._phonon_frequencies.PhononFrequenciesWorkChain)>,\n",
       " <WorkChainNode: uuid: e811d031-99ee-420d-8113-812fdf7d4a70 (pk: 127101) (aiida_sssp_workflow.workflows.evaluate._phonon_frequencies.PhononFrequenciesWorkChain)>,\n",
       " <WorkChainNode: uuid: 2fd42308-6e1c-4df3-8b04-daa9a18c4694 (pk: 136370) (aiida_sssp_workflow.workflows.evaluate._phonon_frequencies.PhononFrequenciesWorkChain)>,\n",
       " <WorkChainNode: uuid: dec61a45-d1a4-42a1-acde-aeecd9aa97a4 (pk: 127069) (aiida_sssp_workflow.workflows.evaluate._phonon_frequencies.PhononFrequenciesWorkChain)>,\n",
       " <WorkChainNode: uuid: e5299f2c-91fe-414b-a1cd-34ef44c1341b (pk: 127088) (aiida_sssp_workflow.workflows.evaluate._phonon_frequencies.PhononFrequenciesWorkChain)>,\n",
       " <WorkChainNode: uuid: 5f97a2e6-13d5-4d62-92ba-c2a5bd9ecfff (pk: 126553) (aiida_sssp_workflow.workflows.evaluate._phonon_frequencies.PhononFrequenciesWorkChain)>,\n",
       " <WorkChainNode: uuid: e369d353-bb01-4c78-84ef-e8fa715f35ca (pk: 137055) (aiida_sssp_workflow.workflows.evaluate._phonon_frequencies.PhononFrequenciesWorkChain)>]"
      ]
     },
     "execution_count": 17,
     "metadata": {},
     "output_type": "execute_result"
    }
   ],
   "source": [
    "n.called"
   ]
  },
  {
   "cell_type": "code",
   "execution_count": 14,
   "metadata": {},
   "outputs": [],
   "source": [
    "psp_time = {}"
   ]
  },
  {
   "cell_type": "code",
   "execution_count": 15,
   "metadata": {},
   "outputs": [
    {
     "name": "stdout",
     "output_type": "stream",
     "text": [
      "Si.paw.z_4.ld1.psl.v1.0.0-high: Total time: 1.4377972222222217 hours\n",
      "Te.paw.z_16.ld1.psl.v1.0.0-high: Total time: 17.29485555555556 hours\n",
      "Sn.nc.z_14.oncvpsp3.dojo.v0.4.1-std: Total time: 5.323852777777777 hours\n"
     ]
    }
   ],
   "source": [
    "# GS (delta, pressure, cohesive energy)\n",
    "from aiida import orm\n",
    "calcs = [\n",
    "\"cc2952a0-71a7-4eed-a50d-865288e1b009\", # (acwf-efficiency-standard at eiger-mc-mr32-mem - None) Si.paw.z_4.ld1.psl.v1.0.0-high (['convergence.phonon_frequencies', 'convergence.bands'])                                        0\n",
    "\"8a6f4281-428b-479d-adba-62e2db52aaeb\", # (acwf-efficiency-standard at eiger-mc-mr32-mem - None) Te.paw.z_16.ld1.psl.v1.0.0-high (['convergence.phonon_frequencies', 'convergence.bands'])                                       0\n",
    "\"962a1c72-0c9c-4a85-89df-ddb7f706110a\", # (acwf-efficiency-standard at eiger-mc-mr32-mem - None) Sn.nc.z_14.oncvpsp3.dojo.v0.4.1-std (['convergence.phonon_frequencies', 'convergence.bands'])                                   0\n",
    "                                                                             \n",
    "]\n",
    "for calc in calcs:\n",
    "    data = {}\n",
    "    n = orm.load_node(calc)\n",
    "    label = n.base.extras.all['label'].split(' ')[-1]\n",
    "    \n",
    "    tot_time_s = 0\n",
    "    for descendant_node in n.called_descendants:\n",
    "        if isinstance(descendant_node, orm.CalcJobNode):\n",
    "            try:\n",
    "                time1 = descendant_node.outputs.output_parameters.get_dict()['wall_time_seconds']\n",
    "            except:\n",
    "                time1 = 0.0\n",
    "                \n",
    "            try:\n",
    "                time2 = descendant_node.outputs.output_parameters.get_dict()['init_wall_time_seconds']\n",
    "            except:\n",
    "                # print(f\"{label}: {descendant_node.pk} has no init_wall_time_seconds\")\n",
    "                time2 = 0.0\n",
    "            tot_time_s += time1 + time2\n",
    "            \n",
    "    print(f\"{label}: Total time: {tot_time_s/3600} hours\")\n",
    "    psp_time[label] = tot_time_s/3600"
   ]
  },
  {
   "cell_type": "code",
   "execution_count": 16,
   "metadata": {},
   "outputs": [
    {
     "name": "stdout",
     "output_type": "stream",
     "text": [
      "Si.paw.z_4.ld1.psl.v1.0.0-high: Total time: 1.4894416666666674 hours\n",
      "Te.paw.z_16.ld1.psl.v1.0.0-high: Total time: 2.4102555555555547 hours\n",
      "Sn.nc.z_14.oncvpsp3.dojo.v0.4.1-std: Total time: 2.218577777777779 hours\n"
     ]
    }
   ],
   "source": [
    "# GS\n",
    "from aiida import orm\n",
    "calcs = [\n",
    "\"fad4489d-be00-4f71-9af3-9b6ca97e8715\", # (acwf-efficiency-standard at eiger-mc-mr32-mem - None) Si.paw.z_4.ld1.psl.v1.0.0-high (['convergence.delta', 'convergence.cohesive_energy', 'convergence.pressure'])                   0\n",
    "\"bf4a03b5-bcd7-483f-86ef-5f16705c3d52\", # (acwf-efficiency-standard at eiger-mc-mr32-mem - None) Te.paw.z_16.ld1.psl.v1.0.0-high (['convergence.delta', 'convergence.cohesive_energy', 'convergence.pressure'])                811\n",
    "\"c41d1cae-49b1-43e4-be57-706d8d2567ea\", # (acwf-efficiency-standard at eiger-mc-mr32-mem - None) Sn.nc.z_14.oncvpsp3.dojo.v0.4.1-std (['convergence.delta', 'convergence.cohesive_energy', 'convergence.pressure'])              0\n",
    "\n",
    "]\n",
    "for calc in calcs:\n",
    "    data = {}\n",
    "    n = orm.load_node(calc)\n",
    "    label = n.base.extras.all['label'].split(' ')[-1]\n",
    "    \n",
    "    tot_time_s = 0\n",
    "    for descendant_node in n.called_descendants:\n",
    "        if isinstance(descendant_node, orm.CalcJobNode):\n",
    "            try:\n",
    "                time1 = descendant_node.outputs.output_parameters.get_dict()['wall_time_seconds']\n",
    "            except:\n",
    "                time1 = 0.0\n",
    "                \n",
    "            try:\n",
    "                time2 = descendant_node.outputs.output_parameters.get_dict()['init_wall_time_seconds']\n",
    "            except:\n",
    "                time2 = 0.0\n",
    "            tot_time_s += time1 + time2\n",
    "            \n",
    "    print(f\"{label}: Total time: {tot_time_s/3600} hours\")\n",
    "    psp_time[label] += tot_time_s/3600"
   ]
  },
  {
   "cell_type": "code",
   "execution_count": 17,
   "metadata": {},
   "outputs": [
    {
     "name": "stdout",
     "output_type": "stream",
     "text": [
      "Si.paw: 2.93 hours\n",
      "Te.paw: 19.71 hours\n",
      "Sn.nc: 7.54 hours\n"
     ]
    }
   ],
   "source": [
    "all_time = 0\n",
    "psp_time_dict = {}\n",
    "for psp, time in psp_time.items():\n",
    "    label = \".\".join(psp.split('.')[0:2])\n",
    "    time = round(time, 2)\n",
    "    print(f\"{label}: {time} hours\")\n",
    "    psp_time_dict[label] = time\n",
    "    all_time += time"
   ]
  },
  {
   "cell_type": "code",
   "execution_count": null,
   "metadata": {},
   "outputs": [],
   "source": []
  }
 ],
 "metadata": {
  "kernelspec": {
   "display_name": "Python 3",
   "language": "python",
   "name": "python3"
  },
  "language_info": {
   "codemirror_mode": {
    "name": "ipython",
    "version": 3
   },
   "file_extension": ".py",
   "mimetype": "text/x-python",
   "name": "python",
   "nbconvert_exporter": "python",
   "pygments_lexer": "ipython3",
   "version": "3.9.16"
  },
  "orig_nbformat": 4
 },
 "nbformat": 4,
 "nbformat_minor": 2
}
