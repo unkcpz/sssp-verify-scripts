{
 "cells": [
  {
   "cell_type": "code",
   "execution_count": 1,
   "metadata": {},
   "outputs": [
    {
     "name": "stdout",
     "output_type": "stream",
     "text": [
      "env: AIIDA_PATH=/home/jyu/.aiida\n",
      "\u001b[93m\u001b[1mWarning\u001b[0m: \u001b[22mYou are currently using a post release development version of AiiDA: 2.3.1.post0\u001b[0m\n",
      "\u001b[93m\u001b[1mWarning\u001b[0m: \u001b[22mBe aware that this is not recommended for production and is not officially supported.\u001b[0m\n",
      "\u001b[93m\u001b[1mWarning\u001b[0m: \u001b[22mDatabases used with this version may not be compatible with future releases of AiiDA\u001b[0m\n",
      "\u001b[93m\u001b[1mWarning\u001b[0m: \u001b[22mas you might not be able to automatically migrate your data.\n",
      "\u001b[0m\n"
     ]
    },
    {
     "data": {
      "application/json": {
       "current_state": "Loaded AiiDA DB environment - profile name: convergence-exp-01."
      },
      "text/html": [
       "<p>Loaded AiiDA DB environment - profile name: convergence-exp-01.</p>"
      ],
      "text/latex": [
       "Loaded AiiDA DB environment - profile name: convergence-exp-01.\n"
      ],
      "text/plain": [
       "Loaded AiiDA DB environment - profile name: convergence-exp-01.\n"
      ]
     },
     "execution_count": 1,
     "metadata": {},
     "output_type": "execute_result"
    }
   ],
   "source": [
    "%env AIIDA_PATH=/home/jyu/.aiida\n",
    "\n",
    "%load_ext aiida\n",
    "%aiida"
   ]
  },
  {
   "cell_type": "code",
   "execution_count": 2,
   "metadata": {},
   "outputs": [
    {
     "data": {
      "text/plain": [
       "Profile<uuid='ab7d487413424c23893e300b2877fd57' name='convergence-exp-01'>"
      ]
     },
     "execution_count": 2,
     "metadata": {},
     "output_type": "execute_result"
    }
   ],
   "source": [
    "from aiida import load_profile\n",
    "\n",
    "load_profile(\"convergence-exp-01\")"
   ]
  },
  {
   "cell_type": "code",
   "execution_count": 29,
   "metadata": {},
   "outputs": [
    {
     "name": "stdout",
     "output_type": "stream",
     "text": [
      "Si.paw.z_4.ld1.psl.v1.0.0-high\n",
      "GS: 0.026789970866862\n",
      "BCC: 0.12183629284687\n",
      "FCC: 0.29043121655049003\n",
      "SC: 0.10923237983792\n",
      "Diamond: 0.045812099469429\n",
      "======\n",
      "Cs.paw.z_9.ld1.psl.v1.0.0-high\n",
      "BCC: 0.23973945483567\n",
      "FCC: 0.17086022205981\n",
      "SC: 0.22520242625717998\n",
      "Diamond: 0.24811722752061\n",
      "======\n",
      "Cu.paw.z_19.ld1.psl.v1.0.0-high\n",
      "GS: 0.26172685852523\n",
      "BCC: 0.31511325109266997\n",
      "FCC: 0.30199801428334\n",
      "SC: 0.3217663901486\n",
      "Diamond: 0.34658368366402004\n",
      "======\n",
      "Fe.paw.z_16.ld1.psl.v1.0.0-high\n",
      "GS: 0.39899915162032\n",
      "BCC: 0.39017933343891\n",
      "FCC: 0.37371673758734997\n",
      "SC: 0.41990022500387003\n",
      "Diamond: 0.47031212671793\n",
      "======\n",
      "Te.paw.z_16.ld1.psl.v1.0.0-high\n",
      "GS: 0.3371405012691\n",
      "BCC: 0.49714664028363\n",
      "FCC: 0.56856236836157\n",
      "SC: 0.3383128471905\n",
      "Diamond: 0.3500210007103\n",
      "======\n",
      "Hf.paw.z_26.ld1.psl.v1.0.0-high.spfn\n",
      "GS: 0.10663320767298999\n",
      "BCC: 0.12206623009116001\n",
      "FCC: 0.12582448928411\n",
      "SC: 0.13398716589352\n",
      "Diamond: 0.049730141592893996\n",
      "======\n",
      "Sn.paw.z_14.ld1.psl.v1.0.0-high\n",
      "GS: 0.13704890490543\n",
      "BCC: 0.24821041012052003\n",
      "FCC: 0.16085999710768\n",
      "SC: 0.14069296032665\n",
      "Diamond: 0.058228490874632\n",
      "======\n",
      "Ar.paw.z_8.ld1.psl.v1.0.0-high\n",
      "GS: 0.19411565327943\n",
      "BCC: 0.041602486172051\n",
      "FCC: 0.027558554840169003\n",
      "SC: 0.015921310801709\n",
      "Diamond: 0.055514091673327\n",
      "======\n",
      "U.paw.z_14.ld1.psl.v1.0.0-high\n",
      "BCC: 0.27148231019781\n",
      "FCC: 0.21844368165784\n",
      "SC: 0.29986738493462\n",
      "Diamond: 0.5593211068574699\n",
      "======\n",
      "Si.nc.z_4.oncvpsp3.dojo.v0.4.1-std\n",
      "GS: 0.041564030274714\n",
      "BCC: 0.055074327597444\n",
      "FCC: 0.20869537590581\n",
      "SC: 0.10079396915744\n",
      "Diamond: 0.061572597910113006\n",
      "======\n",
      "Cs.nc.z_9.oncvpsp3.dojo.v0.4.1-std\n",
      "GS: 0.36066406736266\n",
      "BCC: 0.12787767386754\n",
      "FCC: 0.057709607512231996\n",
      "SC: 0.08547801807013801\n",
      "Diamond: 0.11010488556866\n",
      "======\n",
      "Cu.nc.z_19.oncvpsp3.dojo.v0.4.1-std\n",
      "GS: 1.980945410954\n",
      "BCC: 2.3126794500623\n",
      "FCC: 2.0316241375285\n",
      "SC: 1.9491787023127\n",
      "Diamond: 1.3597019210973\n",
      "======\n",
      "Fe.nc.z_16.oncvpsp3.dojo.v0.4.1-std\n",
      "GS: 1.4294268980870999\n",
      "BCC: 0.11497128189563\n",
      "FCC: 0.078035548827801\n",
      "SC: 0.033287492262303\n",
      "Diamond: 0.07353243234500101\n",
      "======\n",
      "Te.nc.z_16.oncvpsp3.dojo.v0.4.1-std\n",
      "GS: 0.21363072573853\n",
      "BCC: 0.29744925393499\n",
      "FCC: 0.34133272944998\n",
      "SC: 0.19094222183124002\n",
      "Diamond: 0.18322094596953\n",
      "======\n",
      "Hf.nc.z_12.oncvpsp3.dojo.v0.4.1-std\n",
      "GS: 0.10705955604782\n",
      "BCC: 0.15461280745866002\n",
      "FCC: 0.083702036427766\n",
      "SC: 0.22512986963839\n",
      "Diamond: 0.39215822599696004\n",
      "======\n",
      "Sn.nc.z_14.oncvpsp3.dojo.v0.4.1-std\n",
      "GS: 0.17749587249612\n",
      "BCC: 0.14598584173216\n",
      "FCC: 0.044384594115037\n",
      "SC: 0.086031832847246\n",
      "Diamond: 0.10444445764077001\n",
      "======\n",
      "Ar.nc.z_8.oncvpsp3.dojo.v0.4.1-std\n",
      "GS: 1.0984694955796\n",
      "BCC: 1.0130660822000002\n",
      "FCC: 0.88021147951583\n",
      "SC: 0.77648473616163\n",
      "Diamond: 0.6576405461576199\n",
      "======\n",
      "======\n",
      "[865712, 865770, 865927, 866109, 866256, 866404, 866528, 866700, 866885, 867117, 867314, 867461, 867566, 867701, 867891, 868072, 868221]\n",
      "865712 865770 865927 866109 866256 866404 866528 866700 866885 867117 867314 867461 867566 867701 867891 868072 868221\n"
     ]
    }
   ],
   "source": [
    "# GS\n",
    "from aiida import orm\n",
    "calcs = [\n",
    "\"0a1caa5e-20cd-4155-a85a-33ea5a67ebb8\", # (acwf-efficiency-standard at eiger-mc-mr32-mem - None) Si.paw.z_4.ld1.psl.v1.0.0-high (['measure.precision'])                                                                          0\n",
    "\"e1811032-6e99-43b0-ae49-45df36655bd1\", # (acwf-efficiency-standard at eiger-mc-mr32-mem - None) Cs.paw.z_9.ld1.psl.v1.0.0-high (['measure.precision'])                                                                        811\n",
    "\"efe06534-6137-432e-b83e-3c12302505d2\", # (acwf-efficiency-standard at eiger-mc-mr32-mem - None) Cu.paw.z_19.ld1.psl.v1.0.0-high (['measure.precision'])                                                                         0\n",
    "\"ab6ac496-77a6-4900-b6d3-40b833c16eb9\", # (acwf-efficiency-standard at eiger-mc-mr32-mem - None) Fe.paw.z_16.ld1.psl.v1.0.0-high (['measure.precision'])                                                                         0\n",
    "\"c855a58d-0251-48bd-b37f-ee552ebd966a\", # (acwf-efficiency-standard at eiger-mc-mr32-mem - None) Te.paw.z_16.ld1.psl.v1.0.0-high (['measure.precision'])                                                                         0\n",
    "\"e720a385-6770-4db2-b431-9b458a911fa6\", # (acwf-efficiency-standard at eiger-mc-mr32-mem - None) Hf.paw.z_26.ld1.psl.v1.0.0-high.spfn (['measure.precision'])                                                                    0\n",
    "\"0ce41f15-e654-48a9-89ca-dfcc67c3dc05\", # (acwf-efficiency-standard at eiger-mc-mr32-mem - None) Sn.paw.z_14.ld1.psl.v1.0.0-high (['measure.precision'])                                                                         0\n",
    "\"78131363-9e52-4b0e-a50d-a63bd69efd70\", # (acwf-efficiency-standard at eiger-mc-mr32-mem - None) Ar.paw.z_8.ld1.psl.v1.0.0-high (['measure.precision'])                                                                          0\n",
    "\"887cfe6e-8b26-43ae-b4d8-138ffde98eab\", # (acwf-efficiency-standard at eiger-mc-mr32-mem - None) U.paw.z_14.ld1.psl.v1.0.0-high (['measure.precision'])                                                                          0\n",
    "\"8281e159-def2-415e-86bc-972c7bb917fe\", # (acwf-efficiency-standard at eiger-mc-mr32-mem - None) Si.nc.z_4.oncvpsp3.dojo.v0.4.1-std (['measure.precision'])                                                                      0\n",
    "\"b619ac95-f245-45a0-85ef-33cd6e6f4d61\", # (acwf-efficiency-standard at eiger-mc-mr32-mem - None) Cs.nc.z_9.oncvpsp3.dojo.v0.4.1-std (['measure.precision'])                                                                      0\n",
    "\"d759e9fb-cd71-4b43-bb60-293676e88cba\", # (acwf-efficiency-standard at eiger-mc-mr32-mem - None) Cu.nc.z_19.oncvpsp3.dojo.v0.4.1-std (['measure.precision'])                                                                     0\n",
    "\"0119ff93-3bda-43c5-b231-ba519e7d0e96\", # (acwf-efficiency-standard at eiger-mc-mr32-mem - None) Fe.nc.z_16.oncvpsp3.dojo.v0.4.1-std (['measure.precision'])                                                                     0\n",
    "\"162f9f2a-2352-4bae-971d-ce92f6ed8d0f\", # (acwf-efficiency-standard at eiger-mc-mr32-mem - None) Te.nc.z_16.oncvpsp3.dojo.v0.4.1-std (['measure.precision'])                                                                     0\n",
    "\"1c1146ef-b435-46d3-9d19-f994672d2160\", # (acwf-efficiency-standard at eiger-mc-mr32-mem - None) Hf.nc.z_12.oncvpsp3.dojo.v0.4.1-std (['measure.precision'])                                                                     0\n",
    "\"c14052d2-11bd-45ca-95e0-6f72f32c8f56\", # (acwf-efficiency-standard at eiger-mc-mr32-mem - None) Sn.nc.z_14.oncvpsp3.dojo.v0.4.1-std (['measure.precision'])                                                                     0\n",
    "\"8bc2384b-d61a-43da-b9ee-89f8bb64e14b\", # (acwf-efficiency-standard at eiger-mc-mr32-mem - None) Ar.nc.z_8.oncvpsp3.dojo.v0.4.1-std (['measure.precision'])                                                                      0\n",
    "]\n",
    "for calc in calcs:\n",
    "    n = orm.load_node(calc)\n",
    "    label = n.base.extras.all['label'].split(' ')[-1]\n",
    "    print(label)\n",
    "    \n",
    "    for conf in [\"GS\", \"BCC\", \"FCC\", \"SC\", \"Diamond\"]:\n",
    "        try:\n",
    "            data = n.outputs.measure.precision[conf].output_parameters.get_dict()\n",
    "        except:\n",
    "            continue\n",
    "        nu = data['rel_errors_vec_length'] * 100\n",
    "        print(f\"{conf}: {nu}\")\n",
    "    \n",
    "    print('======')\n",
    "    \n",
    "print('======')\n",
    "    \n",
    "a = []\n",
    "for calc in calcs:\n",
    "    n = orm.load_node(calc)\n",
    "    a.append(n.pk)\n",
    "    \n",
    "print(a)\n",
    "print(' '.join([str(i) for i in a]))"
   ]
  },
  {
   "cell_type": "code",
   "execution_count": 23,
   "metadata": {},
   "outputs": [],
   "source": [
    "n = orm.load_node(calcs[4])"
   ]
  },
  {
   "cell_type": "code",
   "execution_count": 26,
   "metadata": {},
   "outputs": [
    {
     "name": "stdout",
     "output_type": "stream",
     "text": [
      "GS: 0.3371405012691\n",
      "BCC: 0.49714664028363\n",
      "FCC: 0.56856236836157\n",
      "SC: 0.3383128471905\n",
      "Diamond: 0.3500210007103\n"
     ]
    }
   ],
   "source": [
    "for conf in [\"GS\", \"BCC\", \"FCC\", \"SC\", \"Diamond\"]:\n",
    "    data = n.outputs.measure.precision[conf].output_parameters.get_dict()\n",
    "    nu = data['rel_errors_vec_length'] * 100\n",
    "    print(f\"{conf}: {nu}\")"
   ]
  },
  {
   "attachments": {},
   "cell_type": "markdown",
   "metadata": {},
   "source": []
  },
  {
   "cell_type": "code",
   "execution_count": null,
   "metadata": {},
   "outputs": [],
   "source": []
  }
 ],
 "metadata": {
  "kernelspec": {
   "display_name": "Python 3",
   "language": "python",
   "name": "python3"
  },
  "language_info": {
   "codemirror_mode": {
    "name": "ipython",
    "version": 3
   },
   "file_extension": ".py",
   "mimetype": "text/x-python",
   "name": "python",
   "nbconvert_exporter": "python",
   "pygments_lexer": "ipython3",
   "version": "3.9.16"
  },
  "orig_nbformat": 4
 },
 "nbformat": 4,
 "nbformat_minor": 2
}
