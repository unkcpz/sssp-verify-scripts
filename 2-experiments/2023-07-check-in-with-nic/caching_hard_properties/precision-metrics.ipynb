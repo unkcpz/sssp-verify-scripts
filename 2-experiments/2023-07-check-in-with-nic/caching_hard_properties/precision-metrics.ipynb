{
 "cells": [
  {
   "cell_type": "code",
   "execution_count": 1,
   "metadata": {},
   "outputs": [
    {
     "name": "stdout",
     "output_type": "stream",
     "text": [
      "env: AIIDA_PATH=/home/jyu/.aiida\n",
      "\u001b[93m\u001b[1mWarning\u001b[0m: \u001b[22mYou are currently using a post release development version of AiiDA: 2.3.1.post0\u001b[0m\n",
      "\u001b[93m\u001b[1mWarning\u001b[0m: \u001b[22mBe aware that this is not recommended for production and is not officially supported.\u001b[0m\n",
      "\u001b[93m\u001b[1mWarning\u001b[0m: \u001b[22mDatabases used with this version may not be compatible with future releases of AiiDA\u001b[0m\n",
      "\u001b[93m\u001b[1mWarning\u001b[0m: \u001b[22mas you might not be able to automatically migrate your data.\n",
      "\u001b[0m\n"
     ]
    },
    {
     "data": {
      "application/json": {
       "current_state": "Loaded AiiDA DB environment - profile name: convergence-exp-01."
      },
      "text/html": [
       "<p>Loaded AiiDA DB environment - profile name: convergence-exp-01.</p>"
      ],
      "text/latex": [
       "Loaded AiiDA DB environment - profile name: convergence-exp-01.\n"
      ],
      "text/plain": [
       "Loaded AiiDA DB environment - profile name: convergence-exp-01.\n"
      ]
     },
     "execution_count": 1,
     "metadata": {},
     "output_type": "execute_result"
    }
   ],
   "source": [
    "%env AIIDA_PATH=/home/jyu/.aiida\n",
    "\n",
    "%load_ext aiida\n",
    "%aiida"
   ]
  },
  {
   "cell_type": "code",
   "execution_count": 2,
   "metadata": {},
   "outputs": [
    {
     "data": {
      "text/plain": [
       "Profile<uuid='ab7d487413424c23893e300b2877fd57' name='convergence-exp-01'>"
      ]
     },
     "execution_count": 2,
     "metadata": {},
     "output_type": "execute_result"
    }
   ],
   "source": [
    "from aiida import load_profile\n",
    "\n",
    "load_profile(\"convergence-exp-01\")"
   ]
  },
  {
   "cell_type": "code",
   "execution_count": 3,
   "metadata": {},
   "outputs": [
    {
     "name": "stdout",
     "output_type": "stream",
     "text": [
      "Si.paw.z_4.ld1.psl.v1.0.0-high\n"
     ]
    },
    {
     "ename": "NotExistentAttributeError",
     "evalue": "Node<865712> does not have an output with link label 'convergence'",
     "output_type": "error",
     "traceback": [
      "\u001b[0;31m---------------------------------------------------------------------------\u001b[0m",
      "\u001b[0;31mKeyError\u001b[0m                                  Traceback (most recent call last)",
      "\u001b[0;32m~/Projects/WP-SSSP/aiida-core/aiida/orm/utils/managers.py\u001b[0m in \u001b[0;36m_get_node_by_link_label\u001b[0;34m(self, label)\u001b[0m\n\u001b[1;32m     90\u001b[0m         \u001b[0;32mtry\u001b[0m\u001b[0;34m:\u001b[0m\u001b[0;34m\u001b[0m\u001b[0;34m\u001b[0m\u001b[0m\n\u001b[0;32m---> 91\u001b[0;31m             \u001b[0mnode\u001b[0m \u001b[0;34m=\u001b[0m \u001b[0mattribute_dict\u001b[0m\u001b[0;34m[\u001b[0m\u001b[0mlabel\u001b[0m\u001b[0;34m]\u001b[0m\u001b[0;34m\u001b[0m\u001b[0;34m\u001b[0m\u001b[0m\n\u001b[0m\u001b[1;32m     92\u001b[0m         \u001b[0;32mexcept\u001b[0m \u001b[0mKeyError\u001b[0m \u001b[0;32mas\u001b[0m \u001b[0mexception\u001b[0m\u001b[0;34m:\u001b[0m\u001b[0;34m\u001b[0m\u001b[0;34m\u001b[0m\u001b[0m\n",
      "\u001b[0;31mKeyError\u001b[0m: 'convergence'",
      "\nThe above exception was the direct cause of the following exception:\n",
      "\u001b[0;31mNotExistent\u001b[0m                               Traceback (most recent call last)",
      "\u001b[0;32m~/Projects/WP-SSSP/aiida-core/aiida/orm/utils/managers.py\u001b[0m in \u001b[0;36m__getattr__\u001b[0;34m(self, name)\u001b[0m\n\u001b[1;32m    139\u001b[0m         \u001b[0;32mtry\u001b[0m\u001b[0;34m:\u001b[0m\u001b[0;34m\u001b[0m\u001b[0;34m\u001b[0m\u001b[0m\n\u001b[0;32m--> 140\u001b[0;31m             \u001b[0;32mreturn\u001b[0m \u001b[0mself\u001b[0m\u001b[0;34m.\u001b[0m\u001b[0m_get_node_by_link_label\u001b[0m\u001b[0;34m(\u001b[0m\u001b[0mlabel\u001b[0m\u001b[0;34m=\u001b[0m\u001b[0mname\u001b[0m\u001b[0;34m)\u001b[0m\u001b[0;34m\u001b[0m\u001b[0;34m\u001b[0m\u001b[0m\n\u001b[0m\u001b[1;32m    141\u001b[0m         \u001b[0;32mexcept\u001b[0m \u001b[0mNotExistent\u001b[0m \u001b[0;32mas\u001b[0m \u001b[0mexception\u001b[0m\u001b[0;34m:\u001b[0m\u001b[0;34m\u001b[0m\u001b[0;34m\u001b[0m\u001b[0m\n",
      "\u001b[0;32m~/Projects/WP-SSSP/aiida-core/aiida/orm/utils/managers.py\u001b[0m in \u001b[0;36m_get_node_by_link_label\u001b[0;34m(self, label)\u001b[0m\n\u001b[1;32m    118\u001b[0m                     \u001b[0;32mraise\u001b[0m \u001b[0mNotExistent\u001b[0m \u001b[0;32mfrom\u001b[0m \u001b[0mexc\u001b[0m\u001b[0;34m\u001b[0m\u001b[0;34m\u001b[0m\u001b[0m\n\u001b[0;32m--> 119\u001b[0;31m             \u001b[0;32mraise\u001b[0m \u001b[0mNotExistent\u001b[0m \u001b[0;32mfrom\u001b[0m \u001b[0mexception\u001b[0m\u001b[0;34m\u001b[0m\u001b[0;34m\u001b[0m\u001b[0m\n\u001b[0m\u001b[1;32m    120\u001b[0m \u001b[0;34m\u001b[0m\u001b[0m\n",
      "\u001b[0;31mNotExistent\u001b[0m: ",
      "\nThe above exception was the direct cause of the following exception:\n",
      "\u001b[0;31mNotExistentAttributeError\u001b[0m                 Traceback (most recent call last)",
      "\u001b[0;32m/tmp/ipykernel_1491408/33120699.py\u001b[0m in \u001b[0;36m<cell line: 22>\u001b[0;34m()\u001b[0m\n\u001b[1;32m     26\u001b[0m     \u001b[0mprint\u001b[0m\u001b[0;34m(\u001b[0m\u001b[0mlabel\u001b[0m\u001b[0;34m)\u001b[0m\u001b[0;34m\u001b[0m\u001b[0;34m\u001b[0m\u001b[0m\n\u001b[1;32m     27\u001b[0m     \u001b[0;32mfor\u001b[0m \u001b[0mprop\u001b[0m \u001b[0;32min\u001b[0m \u001b[0;34m[\u001b[0m\u001b[0;34m'phonon_frequencies'\u001b[0m\u001b[0;34m,\u001b[0m \u001b[0;34m'bands'\u001b[0m\u001b[0;34m]\u001b[0m\u001b[0;34m:\u001b[0m\u001b[0;34m\u001b[0m\u001b[0;34m\u001b[0m\u001b[0m\n\u001b[0;32m---> 28\u001b[0;31m         \u001b[0mout\u001b[0m \u001b[0;34m=\u001b[0m \u001b[0mn\u001b[0m\u001b[0;34m.\u001b[0m\u001b[0moutputs\u001b[0m\u001b[0;34m.\u001b[0m\u001b[0mconvergence\u001b[0m\u001b[0;34m[\u001b[0m\u001b[0mprop\u001b[0m\u001b[0;34m]\u001b[0m\u001b[0;34m.\u001b[0m\u001b[0moutput_parameters\u001b[0m\u001b[0;34m.\u001b[0m\u001b[0mget_dict\u001b[0m\u001b[0;34m(\u001b[0m\u001b[0;34m)\u001b[0m\u001b[0;34m\u001b[0m\u001b[0;34m\u001b[0m\u001b[0m\n\u001b[0m\u001b[1;32m     29\u001b[0m         \u001b[0mwfc\u001b[0m \u001b[0;34m=\u001b[0m \u001b[0mout\u001b[0m\u001b[0;34m[\u001b[0m\u001b[0;34m'wavefunction_cutoff'\u001b[0m\u001b[0;34m]\u001b[0m\u001b[0;34m\u001b[0m\u001b[0;34m\u001b[0m\u001b[0m\n\u001b[1;32m     30\u001b[0m         \u001b[0mrho\u001b[0m \u001b[0;34m=\u001b[0m \u001b[0mout\u001b[0m\u001b[0;34m[\u001b[0m\u001b[0;34m'chargedensity_cutoff'\u001b[0m\u001b[0;34m]\u001b[0m\u001b[0;34m\u001b[0m\u001b[0;34m\u001b[0m\u001b[0m\n",
      "\u001b[0;32m~/Projects/WP-SSSP/aiida-core/aiida/orm/utils/managers.py\u001b[0m in \u001b[0;36m__getattr__\u001b[0;34m(self, name)\u001b[0m\n\u001b[1;32m    144\u001b[0m             \u001b[0;31m# Otherwise, the exception is not caught by `getattr` and is propagated, instead of returning the default.\u001b[0m\u001b[0;34m\u001b[0m\u001b[0;34m\u001b[0m\u001b[0m\n\u001b[1;32m    145\u001b[0m             \u001b[0mprefix\u001b[0m \u001b[0;34m=\u001b[0m \u001b[0;34m'input'\u001b[0m \u001b[0;32mif\u001b[0m \u001b[0mself\u001b[0m\u001b[0;34m.\u001b[0m\u001b[0m_incoming\u001b[0m \u001b[0;32melse\u001b[0m \u001b[0;34m'output'\u001b[0m\u001b[0;34m\u001b[0m\u001b[0;34m\u001b[0m\u001b[0m\n\u001b[0;32m--> 146\u001b[0;31m             raise NotExistentAttributeError(\n\u001b[0m\u001b[1;32m    147\u001b[0m                 \u001b[0;34mf\"Node<{self._node.pk}> does not have an {prefix} with link label '{name}'\"\u001b[0m\u001b[0;34m\u001b[0m\u001b[0;34m\u001b[0m\u001b[0m\n\u001b[1;32m    148\u001b[0m             ) from exception\n",
      "\u001b[0;31mNotExistentAttributeError\u001b[0m: Node<865712> does not have an output with link label 'convergence'"
     ]
    }
   ],
   "source": [
    "# GS\n",
    "from aiida import orm\n",
    "calcs = [\n",
    "\"0a1caa5e-20cd-4155-a85a-33ea5a67ebb8\", # (acwf-efficiency-standard at eiger-mc-mr32-mem - None) Si.paw.z_4.ld1.psl.v1.0.0-high (['measure.precision'])                                                                          0\n",
    "\"e1811032-6e99-43b0-ae49-45df36655bd1\", # (acwf-efficiency-standard at eiger-mc-mr32-mem - None) Cs.paw.z_9.ld1.psl.v1.0.0-high (['measure.precision'])                                                                        811\n",
    "\"efe06534-6137-432e-b83e-3c12302505d2\", # (acwf-efficiency-standard at eiger-mc-mr32-mem - None) Cu.paw.z_19.ld1.psl.v1.0.0-high (['measure.precision'])                                                                         0\n",
    "\"ab6ac496-77a6-4900-b6d3-40b833c16eb9\", # (acwf-efficiency-standard at eiger-mc-mr32-mem - None) Fe.paw.z_16.ld1.psl.v1.0.0-high (['measure.precision'])                                                                         0\n",
    "\"c855a58d-0251-48bd-b37f-ee552ebd966a\", # (acwf-efficiency-standard at eiger-mc-mr32-mem - None) Te.paw.z_16.ld1.psl.v1.0.0-high (['measure.precision'])                                                                         0\n",
    "\"e720a385-6770-4db2-b431-9b458a911fa6\", # (acwf-efficiency-standard at eiger-mc-mr32-mem - None) Hf.paw.z_26.ld1.psl.v1.0.0-high.spfn (['measure.precision'])                                                                    0\n",
    "\"0ce41f15-e654-48a9-89ca-dfcc67c3dc05\", # (acwf-efficiency-standard at eiger-mc-mr32-mem - None) Sn.paw.z_14.ld1.psl.v1.0.0-high (['measure.precision'])                                                                         0\n",
    "\"78131363-9e52-4b0e-a50d-a63bd69efd70\", # (acwf-efficiency-standard at eiger-mc-mr32-mem - None) Ar.paw.z_8.ld1.psl.v1.0.0-high (['measure.precision'])                                                                          0\n",
    "\"887cfe6e-8b26-43ae-b4d8-138ffde98eab\", # (acwf-efficiency-standard at eiger-mc-mr32-mem - None) U.paw.z_14.ld1.psl.v1.0.0-high (['measure.precision'])                                                                          0\n",
    "\"8281e159-def2-415e-86bc-972c7bb917fe\", # (acwf-efficiency-standard at eiger-mc-mr32-mem - None) Si.nc.z_4.oncvpsp3.dojo.v0.4.1-std (['measure.precision'])                                                                      0\n",
    "\"b619ac95-f245-45a0-85ef-33cd6e6f4d61\", # (acwf-efficiency-standard at eiger-mc-mr32-mem - None) Cs.nc.z_9.oncvpsp3.dojo.v0.4.1-std (['measure.precision'])                                                                      0\n",
    "\"d759e9fb-cd71-4b43-bb60-293676e88cba\", # (acwf-efficiency-standard at eiger-mc-mr32-mem - None) Cu.nc.z_19.oncvpsp3.dojo.v0.4.1-std (['measure.precision'])                                                                     0\n",
    "\"0119ff93-3bda-43c5-b231-ba519e7d0e96\", # (acwf-efficiency-standard at eiger-mc-mr32-mem - None) Fe.nc.z_16.oncvpsp3.dojo.v0.4.1-std (['measure.precision'])                                                                     0\n",
    "\"162f9f2a-2352-4bae-971d-ce92f6ed8d0f\", # (acwf-efficiency-standard at eiger-mc-mr32-mem - None) Te.nc.z_16.oncvpsp3.dojo.v0.4.1-std (['measure.precision'])                                                                     0\n",
    "\"1c1146ef-b435-46d3-9d19-f994672d2160\", # (acwf-efficiency-standard at eiger-mc-mr32-mem - None) Hf.nc.z_12.oncvpsp3.dojo.v0.4.1-std (['measure.precision'])                                                                     0\n",
    "\"c14052d2-11bd-45ca-95e0-6f72f32c8f56\", # (acwf-efficiency-standard at eiger-mc-mr32-mem - None) Sn.nc.z_14.oncvpsp3.dojo.v0.4.1-std (['measure.precision'])                                                                     0\n",
    "\"8bc2384b-d61a-43da-b9ee-89f8bb64e14b\", # (acwf-efficiency-standard at eiger-mc-mr32-mem - None) Ar.nc.z_8.oncvpsp3.dojo.v0.4.1-std (['measure.precision'])                                                                      0\n",
    "]\n",
    "for calc in calcs:\n",
    "    n = orm.load_node(calc)\n",
    "    \n",
    "    for conf in [\"GS\", \"BCC\", \"FCC\", \"SC\", \"Diamond\"]:\n",
    "        data = n.outputs.measure.precision[conf].output_parameters.get_dict()\n",
    "        nu = data['rel_errors_vec_length'] * 100\n",
    "        print(f\"{conf}: {nu}\")\n",
    "    \n",
    "print('======')\n",
    "    \n",
    "a = []\n",
    "for calc in calcs:\n",
    "    n = orm.load_node(calc)\n",
    "    a.append(n.pk)\n",
    "    \n",
    "print(a)\n",
    "print(' '.join([str(i) for i in a]))"
   ]
  },
  {
   "cell_type": "code",
   "execution_count": 23,
   "metadata": {},
   "outputs": [],
   "source": [
    "n = orm.load_node(calcs[4])"
   ]
  },
  {
   "cell_type": "code",
   "execution_count": 26,
   "metadata": {},
   "outputs": [
    {
     "name": "stdout",
     "output_type": "stream",
     "text": [
      "GS: 0.3371405012691\n",
      "BCC: 0.49714664028363\n",
      "FCC: 0.56856236836157\n",
      "SC: 0.3383128471905\n",
      "Diamond: 0.3500210007103\n"
     ]
    }
   ],
   "source": [
    "for conf in [\"GS\", \"BCC\", \"FCC\", \"SC\", \"Diamond\"]:\n",
    "    data = n.outputs.measure.precision[conf].output_parameters.get_dict()\n",
    "    nu = data['rel_errors_vec_length'] * 100\n",
    "    print(f\"{conf}: {nu}\")"
   ]
  },
  {
   "attachments": {},
   "cell_type": "markdown",
   "metadata": {},
   "source": []
  },
  {
   "cell_type": "code",
   "execution_count": null,
   "metadata": {},
   "outputs": [],
   "source": []
  }
 ],
 "metadata": {
  "kernelspec": {
   "display_name": "Python 3",
   "language": "python",
   "name": "python3"
  },
  "language_info": {
   "codemirror_mode": {
    "name": "ipython",
    "version": 3
   },
   "file_extension": ".py",
   "mimetype": "text/x-python",
   "name": "python",
   "nbconvert_exporter": "python",
   "pygments_lexer": "ipython3",
   "version": "3.9.16"
  },
  "orig_nbformat": 4
 },
 "nbformat": 4,
 "nbformat_minor": 2
}
