{
 "cells": [
  {
   "cell_type": "code",
   "execution_count": 1,
   "metadata": {},
   "outputs": [
    {
     "name": "stdout",
     "output_type": "stream",
     "text": [
      "env: AIIDA_PATH=/home/jyu/.aiida\n"
     ]
    },
    {
     "data": {
      "application/json": {
       "current_state": "Loaded AiiDA DB environment - profile name: 2023-08-07."
      },
      "text/html": [
       "<p>Loaded AiiDA DB environment - profile name: 2023-08-07.</p>"
      ],
      "text/latex": [
       "Loaded AiiDA DB environment - profile name: 2023-08-07.\n"
      ],
      "text/plain": [
       "Loaded AiiDA DB environment - profile name: 2023-08-07.\n"
      ]
     },
     "execution_count": 1,
     "metadata": {},
     "output_type": "execute_result"
    }
   ],
   "source": [
    "%env AIIDA_PATH=/home/jyu/.aiida\n",
    "\n",
    "%load_ext aiida\n",
    "%aiida"
   ]
  },
  {
   "cell_type": "code",
   "execution_count": 2,
   "metadata": {},
   "outputs": [
    {
     "data": {
      "text/plain": [
       "Profile<uuid='05b2711ba5fd4521a4dabced0ec5e128' name='2023-08-07'>"
      ]
     },
     "execution_count": 2,
     "metadata": {},
     "output_type": "execute_result"
    }
   ],
   "source": [
    "from aiida import load_profile\n",
    "\n",
    "load_profile(\"2023-08-07\")"
   ]
  },
  {
   "cell_type": "code",
   "execution_count": 3,
   "metadata": {},
   "outputs": [],
   "source": [
    "psp_data = {}"
   ]
  },
  {
   "cell_type": "code",
   "execution_count": 4,
   "metadata": {},
   "outputs": [
    {
     "name": "stdout",
     "output_type": "stream",
     "text": [
      "O.paw.z_6.ld1.psl.v1.0.0-high\n",
      "cohesive_energy: (55.0, 440.0) - dual: 8.0\n",
      "O.us.z_6.ld1.psl.v1.0.0-low\n",
      "cohesive_energy: (55.0, 440.0) - dual: 8.0\n",
      "O.nc.z_6.oncvpsp3.dojo.v0.4.1-std\n",
      "cohesive_energy: (70.0, 280.0) - dual: 4.0\n",
      "======\n",
      "[138483, 138509, 138547]\n",
      "138483 138509 138547\n"
     ]
    }
   ],
   "source": [
    "# GS mag-on\n",
    "from aiida import orm\n",
    "calcs = [\n",
    "\"138483\", #  (mag-on) (acwf-precision-standard at daint-mc-mrcloud-mem - GS) O.paw.z_6.ld1.psl.v1.0.0-high (['convergence.cohesive_energy'])                        0\n",
    "\"138509\", #  (mag-on) (acwf-precision-standard at daint-mc-mrcloud-mem - GS) O.us.z_6.ld1.psl.v1.0.0-low (['convergence.cohesive_energy'])                          0\n",
    "\"138547\", #  (mag-on) (acwf-precision-standard at daint-mc-mrcloud-mem - GS) O.nc.z_6.oncvpsp3.dojo.v0.4.1-std (['convergence.cohesive_energy'])                    0\n",
    "]\n",
    "for calc in calcs:\n",
    "    data = {}\n",
    "    n = orm.load_node(calc)\n",
    "    label = n.base.extras.all['label'].split(' ')[-1]\n",
    "    print(label)\n",
    "    prop = 'cohesive_energy'\n",
    "\n",
    "    out = n.outputs.convergence[prop].output_parameters.get_dict()\n",
    "    wfc = out['wavefunction_cutoff']\n",
    "    rho = out['chargedensity_cutoff']\n",
    "    dual = round(rho / wfc, 2)\n",
    "    print(f\"{prop}: ({wfc}, {rho}) - dual: {dual}\")\n",
    "        \n",
    "    data = {\n",
    "        'wfc_cutoff': wfc,\n",
    "        'rho_cutoff': rho,\n",
    "        'dual': dual,\n",
    "    }\n",
    "    d = {\n",
    "        'GS-mag-on': data,\n",
    "    }\n",
    "        \n",
    "    if label not in psp_data:\n",
    "        psp_data[label] = d\n",
    "    else:\n",
    "        psp_data[label].update(d)\n",
    "    \n",
    "print('======')\n",
    "    \n",
    "a = []\n",
    "for calc in calcs:\n",
    "    n = orm.load_node(calc)\n",
    "    a.append(n.pk)\n",
    "    \n",
    "print(a)\n",
    "print(' '.join([str(i) for i in a]))\n",
    "\n",
    "    "
   ]
  },
  {
   "cell_type": "code",
   "execution_count": 6,
   "metadata": {},
   "outputs": [
    {
     "name": "stdout",
     "output_type": "stream",
     "text": [
      "O.paw.z_6.ld1.psl.v1.0.0-high\n",
      "cohesive_energy: (50.0, 400.0) - dual: 8.0\n",
      "O.us.z_6.ld1.psl.v1.0.0-low\n",
      "cohesive_energy: (55.0, 440.0) - dual: 8.0\n",
      "O.nc.z_6.oncvpsp3.dojo.v0.4.1-std\n",
      "cohesive_energy: (70.0, 280.0) - dual: 4.0\n",
      "======\n",
      "[134811, 134829, 134873]\n",
      "134811 134829 134873\n"
     ]
    }
   ],
   "source": [
    "# GS mag-off\n",
    "from aiida import orm\n",
    "calcs = [\n",
    "\"134811\", #  (mag-off) (acwf-precision-standard at daint-mc-mrcloud-mem - GS) O.paw.z_6.ld1.psl.v1.0.0-high (['convergence.cohesive_energy'])                       0\n",
    "\"134829\", #  (mag-off) (acwf-precision-standard at daint-mc-mrcloud-mem - GS) O.us.z_6.ld1.psl.v1.0.0-low (['convergence.cohesive_energy'])                         0\n",
    "\"134873\", #  (mag-off) (acwf-precision-standard at daint-mc-mrcloud-mem - GS) O.nc.z_6.oncvpsp3.dojo.v0.4.1-std (['convergence.cohesive_energy'])                   0\n",
    "]\n",
    "for calc in calcs:\n",
    "    data = {}\n",
    "    n = orm.load_node(calc)\n",
    "    label = n.base.extras.all['label'].split(' ')[-1]\n",
    "    print(label)\n",
    "    prop = 'cohesive_energy'\n",
    "\n",
    "    out = n.outputs.convergence[prop].output_parameters.get_dict()\n",
    "    wfc = out['wavefunction_cutoff']\n",
    "    rho = out['chargedensity_cutoff']\n",
    "    dual = round(rho / wfc, 2)\n",
    "    print(f\"{prop}: ({wfc}, {rho}) - dual: {dual}\")\n",
    "        \n",
    "    data = {\n",
    "        'wfc_cutoff': wfc,\n",
    "        'rho_cutoff': rho,\n",
    "        'dual': dual,\n",
    "    }\n",
    "    d = {\n",
    "        'GS-mag-off': data,\n",
    "    }\n",
    "        \n",
    "    if label not in psp_data:\n",
    "        psp_data[label] = d\n",
    "    else:\n",
    "        psp_data[label].update(d)\n",
    "    \n",
    "print('======')\n",
    "    \n",
    "a = []\n",
    "for calc in calcs:\n",
    "    n = orm.load_node(calc)\n",
    "    a.append(n.pk)\n",
    "    \n",
    "print(a)\n",
    "print(' '.join([str(i) for i in a]))"
   ]
  },
  {
   "cell_type": "code",
   "execution_count": 7,
   "metadata": {},
   "outputs": [
    {
     "name": "stdout",
     "output_type": "stream",
     "text": [
      "O.paw.z_6.ld1.psl.v1.0.0-high\n",
      "cohesive_energy: (40.0, 320.0) - dual: 8.0\n",
      "O.us.z_6.ld1.psl.v1.0.0-low\n",
      "cohesive_energy: (40.0, 320.0) - dual: 8.0\n",
      "O.nc.z_6.oncvpsp3.dojo.v0.4.1-std\n",
      "cohesive_energy: (70.0, 280.0) - dual: 4.0\n",
      "======\n",
      "[138582, 138613, 138644]\n",
      "138582 138613 138644\n"
     ]
    }
   ],
   "source": [
    "# Diamond mag-off\n",
    "from aiida import orm\n",
    "calcs = [\n",
    "\"138582\", #  (mag-off) (acwf-precision-standard at daint-mc-mrcloud-mem - Diamond) O.paw.z_6.ld1.psl.v1.0.0-high (['convergence.cohesive_energy'])                  0\n",
    "\"138613\", #  (mag-off) (acwf-precision-standard at daint-mc-mrcloud-mem - Diamond) O.us.z_6.ld1.psl.v1.0.0-low (['convergence.cohesive_energy'])                    0\n",
    "\"138644\", #  (mag-off) (acwf-precision-standard at daint-mc-mrcloud-mem - Diamond) O.nc.z_6.oncvpsp3.dojo.v0.4.1-std (['convergence.cohesive_energy'])              0\n",
    "]\n",
    "for calc in calcs:\n",
    "    data = {}\n",
    "    n = orm.load_node(calc)\n",
    "    label = n.base.extras.all['label'].split(' ')[-1]\n",
    "    print(label)\n",
    "    prop = 'cohesive_energy'\n",
    "\n",
    "    out = n.outputs.convergence[prop].output_parameters.get_dict()\n",
    "    wfc = out['wavefunction_cutoff']\n",
    "    rho = out['chargedensity_cutoff']\n",
    "    dual = round(rho / wfc, 2)\n",
    "    print(f\"{prop}: ({wfc}, {rho}) - dual: {dual}\")\n",
    "        \n",
    "    data = {\n",
    "        'wfc_cutoff': wfc,\n",
    "        'rho_cutoff': rho,\n",
    "        'dual': dual,\n",
    "    }\n",
    "    d = {\n",
    "        'Diamond-mag-off': data,\n",
    "    }\n",
    "        \n",
    "    if label not in psp_data:\n",
    "        psp_data[label] = d\n",
    "    else:\n",
    "        psp_data[label].update(d)\n",
    "    \n",
    "print('======')\n",
    "    \n",
    "a = []\n",
    "for calc in calcs:\n",
    "    n = orm.load_node(calc)\n",
    "    a.append(n.pk)\n",
    "    \n",
    "print(a)\n",
    "print(' '.join([str(i) for i in a]))"
   ]
  },
  {
   "cell_type": "code",
   "execution_count": 8,
   "metadata": {},
   "outputs": [
    {
     "data": {
      "text/plain": [
       "{'O.paw.z_6.ld1.psl.v1.0.0-high': {'GS-mag-on': {'wfc_cutoff': 55.0,\n",
       "   'rho_cutoff': 440.0,\n",
       "   'dual': 8.0},\n",
       "  'GS-mag-off': {'wfc_cutoff': 50.0, 'rho_cutoff': 400.0, 'dual': 8.0},\n",
       "  'Diamond-mag-off': {'wfc_cutoff': 40.0, 'rho_cutoff': 320.0, 'dual': 8.0}},\n",
       " 'O.us.z_6.ld1.psl.v1.0.0-low': {'GS-mag-on': {'wfc_cutoff': 55.0,\n",
       "   'rho_cutoff': 440.0,\n",
       "   'dual': 8.0},\n",
       "  'GS-mag-off': {'wfc_cutoff': 55.0, 'rho_cutoff': 440.0, 'dual': 8.0},\n",
       "  'Diamond-mag-off': {'wfc_cutoff': 40.0, 'rho_cutoff': 320.0, 'dual': 8.0}},\n",
       " 'O.nc.z_6.oncvpsp3.dojo.v0.4.1-std': {'GS-mag-on': {'wfc_cutoff': 70.0,\n",
       "   'rho_cutoff': 280.0,\n",
       "   'dual': 4.0},\n",
       "  'GS-mag-off': {'wfc_cutoff': 70.0, 'rho_cutoff': 280.0, 'dual': 4.0},\n",
       "  'Diamond-mag-off': {'wfc_cutoff': 70.0, 'rho_cutoff': 280.0, 'dual': 4.0}}}"
      ]
     },
     "execution_count": 8,
     "metadata": {},
     "output_type": "execute_result"
    }
   ],
   "source": [
    "psp_data"
   ]
  },
  {
   "cell_type": "code",
   "execution_count": 9,
   "metadata": {},
   "outputs": [],
   "source": [
    "# write the data to a json file\n",
    "import json\n",
    "with open('./psp_data.json', 'w') as f:\n",
    "    json.dump(psp_data, f, indent=2)"
   ]
  },
  {
   "cell_type": "code",
   "execution_count": null,
   "metadata": {},
   "outputs": [],
   "source": []
  }
 ],
 "metadata": {
  "kernelspec": {
   "display_name": "Python 3",
   "language": "python",
   "name": "python3"
  },
  "language_info": {
   "codemirror_mode": {
    "name": "ipython",
    "version": 3
   },
   "file_extension": ".py",
   "mimetype": "text/x-python",
   "name": "python",
   "nbconvert_exporter": "python",
   "pygments_lexer": "ipython3",
   "version": "3.9.16"
  },
  "orig_nbformat": 4
 },
 "nbformat": 4,
 "nbformat_minor": 2
}
