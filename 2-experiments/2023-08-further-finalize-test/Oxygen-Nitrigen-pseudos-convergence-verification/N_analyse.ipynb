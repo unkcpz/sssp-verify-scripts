{
 "cells": [
  {
   "cell_type": "code",
   "execution_count": 1,
   "metadata": {},
   "outputs": [
    {
     "name": "stdout",
     "output_type": "stream",
     "text": [
      "env: AIIDA_PATH=/home/jyu/.aiida\n"
     ]
    },
    {
     "data": {
      "application/json": {
       "current_state": "Loaded AiiDA DB environment - profile name: 2023-08-07."
      },
      "text/html": [
       "<p>Loaded AiiDA DB environment - profile name: 2023-08-07.</p>"
      ],
      "text/latex": [
       "Loaded AiiDA DB environment - profile name: 2023-08-07.\n"
      ],
      "text/plain": [
       "Loaded AiiDA DB environment - profile name: 2023-08-07.\n"
      ]
     },
     "execution_count": 1,
     "metadata": {},
     "output_type": "execute_result"
    }
   ],
   "source": [
    "%env AIIDA_PATH=/home/jyu/.aiida\n",
    "\n",
    "%load_ext aiida\n",
    "%aiida"
   ]
  },
  {
   "cell_type": "code",
   "execution_count": 2,
   "metadata": {},
   "outputs": [
    {
     "data": {
      "text/plain": [
       "Profile<uuid='05b2711ba5fd4521a4dabced0ec5e128' name='2023-08-07'>"
      ]
     },
     "execution_count": 2,
     "metadata": {},
     "output_type": "execute_result"
    }
   ],
   "source": [
    "from aiida import load_profile\n",
    "\n",
    "load_profile(\"2023-08-07\")"
   ]
  },
  {
   "cell_type": "code",
   "execution_count": 3,
   "metadata": {},
   "outputs": [],
   "source": [
    "psp_data = {}"
   ]
  },
  {
   "cell_type": "code",
   "execution_count": 4,
   "metadata": {},
   "outputs": [
    {
     "name": "stdout",
     "output_type": "stream",
     "text": [
      "N.paw.z_5.atompaw.jth.v1.1-std\n",
      "cohesive_energy: (80.0, 640.0) - dual: 8.0\n",
      "bands: (40.0, 240.0) - dual: 6.0\n",
      "pressure: (50.0, 325.0) - dual: 6.5\n",
      "phonon_frequencies: (30.0, 180.0) - dual: 6.0\n",
      "delta: (90.0, 540.0) - dual: 6.0\n",
      "N.nc.z_5.oncvpsp3.dojo.v0.4.1-std\n",
      "cohesive_energy: (70.0, 175.0) - dual: 2.5\n",
      "bands: (60.0, 120.0) - dual: 2.0\n",
      "pressure: (75.0, 150.0) - dual: 2.0\n",
      "phonon_frequencies: (40.0, 160.0) - dual: 4.0\n",
      "delta: (75.0, 188.0) - dual: 2.51\n",
      "N.nc.z_5.oncvpsp4.sg15.v0\n",
      "cohesive_energy: (70.0, 210.0) - dual: 3.0\n",
      "bands: (60.0, 120.0) - dual: 2.0\n",
      "pressure: (75.0, 150.0) - dual: 2.0\n",
      "phonon_frequencies: (35.0, 70.0) - dual: 2.0\n",
      "delta: (75.0, 150.0) - dual: 2.0\n",
      "N.nc.z_5.oncvpsp4.spms.v1\n",
      "cohesive_energy: (70.0, 175.0) - dual: 2.5\n",
      "bands: (60.0, 120.0) - dual: 2.0\n",
      "pressure: (75.0, 150.0) - dual: 2.0\n",
      "phonon_frequencies: (35.0, 140.0) - dual: 4.0\n",
      "delta: (75.0, 188.0) - dual: 2.51\n",
      "N.paw.z_5.atompaw.jth.v1.1-std\n",
      "cohesive_energy: (80.0, 640.0) - dual: 8.0\n",
      "bands: (40.0, 240.0) - dual: 6.0\n",
      "pressure: (50.0, 325.0) - dual: 6.5\n",
      "phonon_frequencies: (30.0, 180.0) - dual: 6.0\n",
      "delta: (80.0, 600.0) - dual: 7.5\n"
     ]
    },
    {
     "ename": "NameError",
     "evalue": "name 'd' is not defined",
     "output_type": "error",
     "traceback": [
      "\u001b[0;31m---------------------------------------------------------------------------\u001b[0m",
      "\u001b[0;31mNameError\u001b[0m                                 Traceback (most recent call last)",
      "\u001b[0;32m/tmp/ipykernel_2466904/3563950139.py\u001b[0m in \u001b[0;36m<cell line: 17>\u001b[0;34m()\u001b[0m\n\u001b[1;32m     37\u001b[0m         \u001b[0mpsp_data\u001b[0m\u001b[0;34m[\u001b[0m\u001b[0mlabel\u001b[0m\u001b[0;34m]\u001b[0m \u001b[0;34m=\u001b[0m \u001b[0mdata\u001b[0m\u001b[0;34m\u001b[0m\u001b[0;34m\u001b[0m\u001b[0m\n\u001b[1;32m     38\u001b[0m     \u001b[0;32melse\u001b[0m\u001b[0;34m:\u001b[0m\u001b[0;34m\u001b[0m\u001b[0;34m\u001b[0m\u001b[0m\n\u001b[0;32m---> 39\u001b[0;31m         \u001b[0mpsp_data\u001b[0m\u001b[0;34m[\u001b[0m\u001b[0mlabel\u001b[0m\u001b[0;34m]\u001b[0m\u001b[0;34m.\u001b[0m\u001b[0mupdate\u001b[0m\u001b[0;34m(\u001b[0m\u001b[0md\u001b[0m\u001b[0;34m)\u001b[0m\u001b[0;34m\u001b[0m\u001b[0;34m\u001b[0m\u001b[0m\n\u001b[0m\u001b[1;32m     40\u001b[0m \u001b[0;34m\u001b[0m\u001b[0m\n\u001b[1;32m     41\u001b[0m \u001b[0mprint\u001b[0m\u001b[0;34m(\u001b[0m\u001b[0;34m'======'\u001b[0m\u001b[0;34m)\u001b[0m\u001b[0;34m\u001b[0m\u001b[0;34m\u001b[0m\u001b[0m\n",
      "\u001b[0;31mNameError\u001b[0m: name 'd' is not defined"
     ]
    }
   ],
   "source": [
    "# GS mag-on\n",
    "from aiida import orm\n",
    "calcs = [\n",
    "312600, #  (Nitrigen) (acwf-precision-standard at daint-mc-mrcloud-mem - default) N.paw.z_5.atompaw.jth.v1.1-std (Convergence)                                    0\n",
    "419274, #  (Nitrigen) (acwf-precision-standard at daint-mc-mrcloud-mem - default) N.nc.z_5.oncvpsp3.dojo.v0.4.1-std (Convergence)                                 0\n",
    "419302, #  (Nitrigen) (acwf-precision-standard at daint-mc-mrcloud-mem - default) N.nc.z_5.oncvpsp4.sg15.v0 (Convergence)                                         0\n",
    "419335, #  (Nitrigen) (acwf-precision-standard at daint-mc-mrcloud-mem - default) N.nc.z_5.oncvpsp4.spms.v1 (Convergence)                                         0\n",
    "419526, #  (Nitrigen) (acwf-precision-standard at daint-mc-mrcloud-mem - default) N.paw.z_5.atompaw.jth.v1.1-std (Convergence)                                    0\n",
    "419632, #  (Nitrigen) (acwf-precision-standard at daint-mc-mrcloud-mem - default) N.paw.z_5.atompaw.jth.v1.1-str (Convergence)                                    0\n",
    "419718, #  (Nitrigen) (acwf-precision-standard at daint-mc-mrcloud-mem - default) N.paw.z_5.ld1.psl.v0.1 (Convergence)                                            0\n",
    "419923, #  (Nitrigen) (acwf-precision-standard at daint-mc-mrcloud-mem - default) N.paw.z_5.ld1.psl.v1.0.0-high (Convergence)                                     0\n",
    "420142, #  (Nitrigen) (acwf-precision-standard at daint-mc-mrcloud-mem - default) N.us.z_5.ld1.psl.v0.1 (Convergence)                                             0\n",
    "420266, #  (Nitrigen) (acwf-precision-standard at daint-mc-mrcloud-mem - default) N.us.z_5.ld1.psl.v1.0.0-high (Convergence)                                      0\n",
    "420542, #  (Nitrigen) (acwf-precision-standard at daint-mc-mrcloud-mem - default) N.us.z_5.ld1.theose.v0 (Convergence)                                            0\n",
    "420707, #  (Nitrigen) (acwf-precision-standard at daint-mc-mrcloud-mem - default) N.us.z_5.uspp.gbrv.v1.2 (Convergence)                                           0\n",
    "]\n",
    "for calc in calcs:\n",
    "    data = {}\n",
    "    n = orm.load_node(calc)\n",
    "    label = n.base.extras.all['label'].split(' ')[-1]\n",
    "    print(label)\n",
    "    for prop in [\"cohesive_energy\", \"bands\", \"pressure\", \"phonon_frequencies\", \"delta\"]:\n",
    "\n",
    "        out = n.outputs.convergence[prop].output_parameters.get_dict()\n",
    "        wfc = out['wavefunction_cutoff']\n",
    "        rho = out['chargedensity_cutoff']\n",
    "        dual = round(rho / wfc, 2)\n",
    "        print(f\"{prop}: ({wfc}, {rho}) - dual: {dual}\")\n",
    "\n",
    "        data[prop] = {\n",
    "            'wfc_cutoff': wfc,\n",
    "            'rho_cutoff': rho,\n",
    "            'dual': dual,\n",
    "        }\n",
    "        \n",
    "    if label not in psp_data:\n",
    "        psp_data[label] = data\n",
    "    else:\n",
    "        psp_data[label].update(data)\n",
    "    \n",
    "print('======')\n",
    "    \n",
    "a = []\n",
    "for calc in calcs:\n",
    "    n = orm.load_node(calc)\n",
    "    a.append(n.pk)\n",
    "    \n",
    "print(a)\n",
    "print(' '.join([str(i) for i in a]))\n",
    "    "
   ]
  },
  {
   "cell_type": "code",
   "execution_count": 5,
   "metadata": {},
   "outputs": [
    {
     "data": {
      "text/plain": [
       "{'N.paw.z_5.atompaw.jth.v1.1-std': {'cohesive_energy': {'wfc_cutoff': 80.0,\n",
       "   'rho_cutoff': 640.0,\n",
       "   'dual': 8.0},\n",
       "  'bands': {'wfc_cutoff': 40.0, 'rho_cutoff': 240.0, 'dual': 6.0},\n",
       "  'pressure': {'wfc_cutoff': 50.0, 'rho_cutoff': 325.0, 'dual': 6.5},\n",
       "  'phonon_frequencies': {'wfc_cutoff': 30.0, 'rho_cutoff': 180.0, 'dual': 6.0},\n",
       "  'delta': {'wfc_cutoff': 90.0, 'rho_cutoff': 540.0, 'dual': 6.0}},\n",
       " 'N.nc.z_5.oncvpsp3.dojo.v0.4.1-std': {'cohesive_energy': {'wfc_cutoff': 70.0,\n",
       "   'rho_cutoff': 175.0,\n",
       "   'dual': 2.5},\n",
       "  'bands': {'wfc_cutoff': 60.0, 'rho_cutoff': 120.0, 'dual': 2.0},\n",
       "  'pressure': {'wfc_cutoff': 75.0, 'rho_cutoff': 150.0, 'dual': 2.0},\n",
       "  'phonon_frequencies': {'wfc_cutoff': 40.0, 'rho_cutoff': 160.0, 'dual': 4.0},\n",
       "  'delta': {'wfc_cutoff': 75.0, 'rho_cutoff': 188.0, 'dual': 2.51}},\n",
       " 'N.nc.z_5.oncvpsp4.sg15.v0': {'cohesive_energy': {'wfc_cutoff': 70.0,\n",
       "   'rho_cutoff': 210.0,\n",
       "   'dual': 3.0},\n",
       "  'bands': {'wfc_cutoff': 60.0, 'rho_cutoff': 120.0, 'dual': 2.0},\n",
       "  'pressure': {'wfc_cutoff': 75.0, 'rho_cutoff': 150.0, 'dual': 2.0},\n",
       "  'phonon_frequencies': {'wfc_cutoff': 35.0, 'rho_cutoff': 70.0, 'dual': 2.0},\n",
       "  'delta': {'wfc_cutoff': 75.0, 'rho_cutoff': 150.0, 'dual': 2.0}},\n",
       " 'N.nc.z_5.oncvpsp4.spms.v1': {'cohesive_energy': {'wfc_cutoff': 70.0,\n",
       "   'rho_cutoff': 175.0,\n",
       "   'dual': 2.5},\n",
       "  'bands': {'wfc_cutoff': 60.0, 'rho_cutoff': 120.0, 'dual': 2.0},\n",
       "  'pressure': {'wfc_cutoff': 75.0, 'rho_cutoff': 150.0, 'dual': 2.0},\n",
       "  'phonon_frequencies': {'wfc_cutoff': 35.0, 'rho_cutoff': 140.0, 'dual': 4.0},\n",
       "  'delta': {'wfc_cutoff': 75.0, 'rho_cutoff': 188.0, 'dual': 2.51}}}"
      ]
     },
     "execution_count": 5,
     "metadata": {},
     "output_type": "execute_result"
    }
   ],
   "source": [
    "psp_data"
   ]
  },
  {
   "cell_type": "code",
   "execution_count": 6,
   "metadata": {},
   "outputs": [
    {
     "data": {
      "text/plain": [
       "{'N.paw.z_5.atompaw.jth.v1.1-std': {'cohesive_energy': {'wfc_cutoff': 80.0,\n",
       "   'rho_cutoff': 640.0,\n",
       "   'dual': 8.0},\n",
       "  'bands': {'wfc_cutoff': 40.0, 'rho_cutoff': 240.0, 'dual': 6.0},\n",
       "  'pressure': {'wfc_cutoff': 50.0, 'rho_cutoff': 325.0, 'dual': 6.5},\n",
       "  'phonon_frequencies': {'wfc_cutoff': 30.0, 'rho_cutoff': 180.0, 'dual': 6.0},\n",
       "  'delta': {'wfc_cutoff': 90.0, 'rho_cutoff': 540.0, 'dual': 6.0}},\n",
       " 'N.nc.z_5.oncvpsp3.dojo.v0.4.1-std': {'cohesive_energy': {'wfc_cutoff': 70.0,\n",
       "   'rho_cutoff': 175.0,\n",
       "   'dual': 2.5},\n",
       "  'bands': {'wfc_cutoff': 60.0, 'rho_cutoff': 120.0, 'dual': 2.0},\n",
       "  'pressure': {'wfc_cutoff': 75.0, 'rho_cutoff': 150.0, 'dual': 2.0},\n",
       "  'phonon_frequencies': {'wfc_cutoff': 40.0, 'rho_cutoff': 160.0, 'dual': 4.0},\n",
       "  'delta': {'wfc_cutoff': 75.0, 'rho_cutoff': 188.0, 'dual': 2.51}},\n",
       " 'N.nc.z_5.oncvpsp4.sg15.v0': {'cohesive_energy': {'wfc_cutoff': 70.0,\n",
       "   'rho_cutoff': 210.0,\n",
       "   'dual': 3.0},\n",
       "  'bands': {'wfc_cutoff': 60.0, 'rho_cutoff': 120.0, 'dual': 2.0},\n",
       "  'pressure': {'wfc_cutoff': 75.0, 'rho_cutoff': 150.0, 'dual': 2.0},\n",
       "  'phonon_frequencies': {'wfc_cutoff': 35.0, 'rho_cutoff': 70.0, 'dual': 2.0},\n",
       "  'delta': {'wfc_cutoff': 75.0, 'rho_cutoff': 150.0, 'dual': 2.0}},\n",
       " 'N.nc.z_5.oncvpsp4.spms.v1': {'cohesive_energy': {'wfc_cutoff': 70.0,\n",
       "   'rho_cutoff': 175.0,\n",
       "   'dual': 2.5},\n",
       "  'bands': {'wfc_cutoff': 60.0, 'rho_cutoff': 120.0, 'dual': 2.0},\n",
       "  'pressure': {'wfc_cutoff': 75.0, 'rho_cutoff': 150.0, 'dual': 2.0},\n",
       "  'phonon_frequencies': {'wfc_cutoff': 35.0, 'rho_cutoff': 140.0, 'dual': 4.0},\n",
       "  'delta': {'wfc_cutoff': 75.0, 'rho_cutoff': 188.0, 'dual': 2.51}}}"
      ]
     },
     "execution_count": 6,
     "metadata": {},
     "output_type": "execute_result"
    }
   ],
   "source": [
    "psp_data"
   ]
  },
  {
   "cell_type": "code",
   "execution_count": 8,
   "metadata": {},
   "outputs": [],
   "source": [
    "# write the data to a json file\n",
    "import json\n",
    "with open('./N_psp_data.json', 'w') as f:\n",
    "    json.dump(psp_data, f, indent=2)"
   ]
  },
  {
   "cell_type": "code",
   "execution_count": null,
   "metadata": {},
   "outputs": [],
   "source": []
  }
 ],
 "metadata": {
  "kernelspec": {
   "display_name": "Python 3",
   "language": "python",
   "name": "python3"
  },
  "language_info": {
   "codemirror_mode": {
    "name": "ipython",
    "version": 3
   },
   "file_extension": ".py",
   "mimetype": "text/x-python",
   "name": "python",
   "nbconvert_exporter": "python",
   "pygments_lexer": "ipython3",
   "version": "3.9.16"
  },
  "orig_nbformat": 4
 },
 "nbformat": 4,
 "nbformat_minor": 2
}
