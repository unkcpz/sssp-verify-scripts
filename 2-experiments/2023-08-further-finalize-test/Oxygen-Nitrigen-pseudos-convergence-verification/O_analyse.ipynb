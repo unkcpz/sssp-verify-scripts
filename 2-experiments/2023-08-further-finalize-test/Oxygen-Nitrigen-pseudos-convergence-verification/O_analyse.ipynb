{
 "cells": [
  {
   "cell_type": "code",
   "execution_count": 1,
   "metadata": {},
   "outputs": [
    {
     "name": "stdout",
     "output_type": "stream",
     "text": [
      "env: AIIDA_PATH=/home/jyu/.aiida\n"
     ]
    },
    {
     "data": {
      "application/json": {
       "current_state": "Loaded AiiDA DB environment - profile name: 2023-08-07."
      },
      "text/html": [
       "<p>Loaded AiiDA DB environment - profile name: 2023-08-07.</p>"
      ],
      "text/latex": [
       "Loaded AiiDA DB environment - profile name: 2023-08-07.\n"
      ],
      "text/plain": [
       "Loaded AiiDA DB environment - profile name: 2023-08-07.\n"
      ]
     },
     "execution_count": 1,
     "metadata": {},
     "output_type": "execute_result"
    }
   ],
   "source": [
    "%env AIIDA_PATH=/home/jyu/.aiida\n",
    "\n",
    "%load_ext aiida\n",
    "%aiida"
   ]
  },
  {
   "cell_type": "code",
   "execution_count": 2,
   "metadata": {},
   "outputs": [
    {
     "data": {
      "text/plain": [
       "Profile<uuid='05b2711ba5fd4521a4dabced0ec5e128' name='2023-08-07'>"
      ]
     },
     "execution_count": 2,
     "metadata": {},
     "output_type": "execute_result"
    }
   ],
   "source": [
    "from aiida import load_profile\n",
    "\n",
    "load_profile(\"2023-08-07\")"
   ]
  },
  {
   "cell_type": "code",
   "execution_count": 6,
   "metadata": {},
   "outputs": [],
   "source": [
    "psp_data = {}"
   ]
  },
  {
   "cell_type": "code",
   "execution_count": 7,
   "metadata": {},
   "outputs": [
    {
     "name": "stdout",
     "output_type": "stream",
     "text": [
      "O.nc.z_6.oncvpsp3.dojo.v0.4.1-std\n",
      "cohesive_energy: (70.0, 280.0) - dual: 4.0\n",
      "bands: (65.0, 260.0) - dual: 4.0\n",
      "pressure: (80.0, 240.0) - dual: 3.0\n",
      "phonon_frequencies: (40.0, 160.0) - dual: 4.0\n",
      "delta: (150.0, 300.0) - dual: 2.0\n",
      "O.paw.z_6.atompaw.jth.v1.1-std\n",
      "cohesive_energy: (55.0, 440.0) - dual: 8.0\n",
      "bands: (35.0, 280.0) - dual: 8.0\n",
      "pressure: (70.0, 560.0) - dual: 8.0\n",
      "phonon_frequencies: (30.0, 240.0) - dual: 8.0\n",
      "delta: (65.0, 585.0) - dual: 9.0\n",
      "O.us.z_6.ld1.psl.v1.0.0-low\n",
      "cohesive_energy: (55.0, 440.0) - dual: 8.0\n",
      "bands: (35.0, 280.0) - dual: 8.0\n",
      "pressure: (65.0, 520.0) - dual: 8.0\n",
      "phonon_frequencies: (30.0, 240.0) - dual: 8.0\n",
      "delta: (65.0, 520.0) - dual: 8.0\n",
      "O.nc.z_6.oncvpsp3.dojo.v0.4.1-str\n",
      "cohesive_energy: (75.0, 300.0) - dual: 4.0\n",
      "bands: (65.0, 260.0) - dual: 4.0\n",
      "pressure: (90.0, 270.0) - dual: 3.0\n",
      "phonon_frequencies: (60.0, 210.0) - dual: 3.5\n",
      "delta: (150.0, 300.0) - dual: 2.0\n",
      "O.nc.z_6.oncvpsp4.sg15.v0\n",
      "cohesive_energy: (75.0, 300.0) - dual: 4.0\n",
      "bands: (65.0, 162.0) - dual: 2.49\n",
      "pressure: (90.0, 180.0) - dual: 2.0\n",
      "phonon_frequencies: (30.0, 75.0) - dual: 2.5\n",
      "delta: (200.0, 800.0) - dual: 4.0\n",
      "O.nc.z_6.oncvpsp4.spms.v1\n",
      "cohesive_energy: (75.0, 300.0) - dual: 4.0\n",
      "bands: (65.0, 260.0) - dual: 4.0\n",
      "pressure: (80.0, 240.0) - dual: 3.0\n",
      "phonon_frequencies: (40.0, 160.0) - dual: 4.0\n",
      "delta: (75.0, 262.0) - dual: 3.49\n",
      "O.paw.z_6.atompaw.jth.v1.1-str\n",
      "cohesive_energy: (55.0, 440.0) - dual: 8.0\n",
      "bands: (35.0, 280.0) - dual: 8.0\n",
      "pressure: (70.0, 560.0) - dual: 8.0\n",
      "phonon_frequencies: (30.0, 240.0) - dual: 8.0\n",
      "delta: (65.0, 585.0) - dual: 9.0\n",
      "O.paw.z_6.ld1.psl.v0.1\n",
      "cohesive_energy: (60.0, 480.0) - dual: 8.0\n",
      "bands: (40.0, 320.0) - dual: 8.0\n",
      "pressure: (70.0, 560.0) - dual: 8.0\n",
      "phonon_frequencies: (30.0, 240.0) - dual: 8.0\n",
      "delta: (100.0, 800.0) - dual: 8.0\n",
      "O.paw.z_6.ld1.psl.v1.0.0-high\n",
      "cohesive_energy: (55.0, 440.0) - dual: 8.0\n",
      "bands: (40.0, 320.0) - dual: 8.0\n",
      "pressure: (75.0, 600.0) - dual: 8.0\n",
      "phonon_frequencies: (30.0, 240.0) - dual: 8.0\n",
      "delta: (65.0, 520.0) - dual: 8.0\n",
      "O.paw.z_6.ld1.psl.v1.0.0-low\n",
      "cohesive_energy: (55.0, 440.0) - dual: 8.0\n",
      "bands: (35.0, 280.0) - dual: 8.0\n",
      "pressure: (65.0, 520.0) - dual: 8.0\n",
      "phonon_frequencies: (30.0, 240.0) - dual: 8.0\n",
      "delta: (65.0, 520.0) - dual: 8.0\n",
      "O.us.z_6.ld1.psl.v0.1\n",
      "cohesive_energy: (55.0, 990.0) - dual: 18.0\n",
      "bands: (40.0, 640.0) - dual: 16.0\n",
      "pressure: (70.0, 700.0) - dual: 10.0\n",
      "phonon_frequencies: (30.0, 360.0) - dual: 12.0\n",
      "delta: (100.0, 1200.0) - dual: 12.0\n",
      "O.us.z_6.ld1.psl.v1.0.0-high\n",
      "cohesive_energy: (55.0, 440.0) - dual: 8.0\n",
      "bands: (40.0, 320.0) - dual: 8.0\n",
      "pressure: (75.0, 600.0) - dual: 8.0\n",
      "phonon_frequencies: (30.0, 240.0) - dual: 8.0\n",
      "delta: (65.0, 520.0) - dual: 8.0\n",
      "O.us.z_6.uspp.gbrv.v1.2\n",
      "cohesive_energy: (55.0, 440.0) - dual: 8.0\n",
      "bands: (30.0, 240.0) - dual: 8.0\n",
      "pressure: (40.0, 320.0) - dual: 8.0\n",
      "phonon_frequencies: (30.0, 240.0) - dual: 8.0\n",
      "delta: (200.0, 1600.0) - dual: 8.0\n",
      "======\n",
      "[265926, 265941, 265956, 299094, 299129, 299164, 299199, 299234, 299269, 299285, 299339, 299374, 299409]\n",
      "265926 265941 265956 299094 299129 299164 299199 299234 299269 299285 299339 299374 299409\n"
     ]
    }
   ],
   "source": [
    "# GS mag-on\n",
    "from aiida import orm\n",
    "calcs = [\n",
    "421119, #  (Oxygen) (acwf-precision-standard at daint-mc-mrcloud-mem - default) O.nc.z_6.oncvpsp3.dojo.v0.4.1-str (Convergence)                                   0\n",
    "421220, #  (Oxygen) (acwf-precision-standard at daint-mc-mrcloud-mem - default) O.nc.z_6.oncvpsp4.sg15.v0 (Convergence)                                           0\n",
    "421539, #  (Oxygen) (acwf-precision-standard at daint-mc-mrcloud-mem - default) O.paw.z_6.atompaw.jth.v1.1-std (Convergence)                                      0\n",
    "421639, #  (Oxygen) (acwf-precision-standard at daint-mc-mrcloud-mem - default) O.paw.z_6.atompaw.jth.v1.1-str (Convergence)                                      0\n",
    "421798, #  (Oxygen) (acwf-precision-standard at daint-mc-mrcloud-mem - default) O.paw.z_6.ld1.psl.v0.1 (Convergence)                                              0\n",
    "422074, #  (Oxygen) (acwf-precision-standard at daint-mc-mrcloud-mem - default) O.paw.z_6.ld1.psl.v1.0.0-high (Convergence)                                       0\n",
    "422228, #  (Oxygen) (acwf-precision-standard at daint-mc-mrcloud-mem - default) O.paw.z_6.ld1.psl.v1.0.0-low (Convergence)                                        0\n",
    "422519, #  (Oxygen) (acwf-precision-standard at daint-mc-mrcloud-mem - default) O.us.z_6.ld1.psl.v0.1 (Convergence)                                               0\n",
    "422720, #  (Oxygen) (acwf-precision-standard at daint-mc-mrcloud-mem - default) O.us.z_6.ld1.psl.v1.0.0-high (Convergence)                                        0\n",
    "422889, #  (Oxygen) (acwf-precision-standard at daint-mc-mrcloud-mem - default) O.us.z_6.ld1.psl.v1.0.0-low (Convergence)                                         0\n",
    "423022, #  (Oxygen) (acwf-precision-standard at daint-mc-mrcloud-mem - default) O.us.z_6.uspp.gbrv.v1.2 (Convergence)                                             0\n",
    "572494, #  (Oxygen) (acwf-precision-standard at daint-mc-mrcloud-mem - default) O.nc.z_6.oncvpsp3.dojo.v0.4.1-std (Convergence)                                   0\n",
    "572515, #  (Oxygen) (acwf-precision-standard at daint-mc-mrcloud-mem - default) O.nc.z_6.oncvpsp4.spms.v1 (Convergence)                                           0\n",
    "]\n",
    "for calc in calcs:\n",
    "    data = {}\n",
    "    n = orm.load_node(calc)\n",
    "    label = n.base.extras.all['label'].split(' ')[-1]\n",
    "    print(label)\n",
    "    for prop in [\"cohesive_energy\", \"bands\", \"pressure\", \"phonon_frequencies\", \"delta\"]:\n",
    "\n",
    "        out = n.outputs.convergence[prop].output_parameters.get_dict()\n",
    "        wfc = out['wavefunction_cutoff']\n",
    "        rho = out['chargedensity_cutoff']\n",
    "        dual = round(rho / wfc, 2)\n",
    "        print(f\"{prop}: ({wfc}, {rho}) - dual: {dual}\")\n",
    "\n",
    "        data[prop] = {\n",
    "            'wfc_cutoff': wfc,\n",
    "            'rho_cutoff': rho,\n",
    "            'dual': dual,\n",
    "        }\n",
    "        \n",
    "    if label not in psp_data:\n",
    "        psp_data[label] = data\n",
    "    else:\n",
    "        psp_data[label].update(d)\n",
    "    \n",
    "print('======')\n",
    "    \n",
    "a = []\n",
    "for calc in calcs:\n",
    "    n = orm.load_node(calc)\n",
    "    a.append(n.pk)\n",
    "    \n",
    "print(a)\n",
    "print(' '.join([str(i) for i in a]))\n",
    "    "
   ]
  },
  {
   "cell_type": "code",
   "execution_count": 9,
   "metadata": {},
   "outputs": [
    {
     "data": {
      "text/plain": [
       "{'O.nc.z_6.oncvpsp3.dojo.v0.4.1-std': {'cohesive_energy': {'wfc_cutoff': 70.0,\n",
       "   'rho_cutoff': 280.0,\n",
       "   'dual': 4.0},\n",
       "  'bands': {'wfc_cutoff': 65.0, 'rho_cutoff': 260.0, 'dual': 4.0},\n",
       "  'pressure': {'wfc_cutoff': 80.0, 'rho_cutoff': 240.0, 'dual': 3.0},\n",
       "  'phonon_frequencies': {'wfc_cutoff': 40.0, 'rho_cutoff': 160.0, 'dual': 4.0},\n",
       "  'delta': {'wfc_cutoff': 150.0, 'rho_cutoff': 300.0, 'dual': 2.0}},\n",
       " 'O.paw.z_6.atompaw.jth.v1.1-std': {'cohesive_energy': {'wfc_cutoff': 55.0,\n",
       "   'rho_cutoff': 440.0,\n",
       "   'dual': 8.0},\n",
       "  'bands': {'wfc_cutoff': 35.0, 'rho_cutoff': 280.0, 'dual': 8.0},\n",
       "  'pressure': {'wfc_cutoff': 70.0, 'rho_cutoff': 560.0, 'dual': 8.0},\n",
       "  'phonon_frequencies': {'wfc_cutoff': 30.0, 'rho_cutoff': 240.0, 'dual': 8.0},\n",
       "  'delta': {'wfc_cutoff': 65.0, 'rho_cutoff': 585.0, 'dual': 9.0}},\n",
       " 'O.us.z_6.ld1.psl.v1.0.0-low': {'cohesive_energy': {'wfc_cutoff': 55.0,\n",
       "   'rho_cutoff': 440.0,\n",
       "   'dual': 8.0},\n",
       "  'bands': {'wfc_cutoff': 35.0, 'rho_cutoff': 280.0, 'dual': 8.0},\n",
       "  'pressure': {'wfc_cutoff': 65.0, 'rho_cutoff': 520.0, 'dual': 8.0},\n",
       "  'phonon_frequencies': {'wfc_cutoff': 30.0, 'rho_cutoff': 240.0, 'dual': 8.0},\n",
       "  'delta': {'wfc_cutoff': 65.0, 'rho_cutoff': 520.0, 'dual': 8.0}},\n",
       " 'O.nc.z_6.oncvpsp3.dojo.v0.4.1-str': {'cohesive_energy': {'wfc_cutoff': 75.0,\n",
       "   'rho_cutoff': 300.0,\n",
       "   'dual': 4.0},\n",
       "  'bands': {'wfc_cutoff': 65.0, 'rho_cutoff': 260.0, 'dual': 4.0},\n",
       "  'pressure': {'wfc_cutoff': 90.0, 'rho_cutoff': 270.0, 'dual': 3.0},\n",
       "  'phonon_frequencies': {'wfc_cutoff': 60.0, 'rho_cutoff': 210.0, 'dual': 3.5},\n",
       "  'delta': {'wfc_cutoff': 150.0, 'rho_cutoff': 300.0, 'dual': 2.0}},\n",
       " 'O.nc.z_6.oncvpsp4.sg15.v0': {'cohesive_energy': {'wfc_cutoff': 75.0,\n",
       "   'rho_cutoff': 300.0,\n",
       "   'dual': 4.0},\n",
       "  'bands': {'wfc_cutoff': 65.0, 'rho_cutoff': 162.0, 'dual': 2.49},\n",
       "  'pressure': {'wfc_cutoff': 90.0, 'rho_cutoff': 180.0, 'dual': 2.0},\n",
       "  'phonon_frequencies': {'wfc_cutoff': 30.0, 'rho_cutoff': 75.0, 'dual': 2.5},\n",
       "  'delta': {'wfc_cutoff': 200.0, 'rho_cutoff': 800.0, 'dual': 4.0}},\n",
       " 'O.nc.z_6.oncvpsp4.spms.v1': {'cohesive_energy': {'wfc_cutoff': 75.0,\n",
       "   'rho_cutoff': 300.0,\n",
       "   'dual': 4.0},\n",
       "  'bands': {'wfc_cutoff': 65.0, 'rho_cutoff': 260.0, 'dual': 4.0},\n",
       "  'pressure': {'wfc_cutoff': 80.0, 'rho_cutoff': 240.0, 'dual': 3.0},\n",
       "  'phonon_frequencies': {'wfc_cutoff': 40.0, 'rho_cutoff': 160.0, 'dual': 4.0},\n",
       "  'delta': {'wfc_cutoff': 75.0, 'rho_cutoff': 262.0, 'dual': 3.49}},\n",
       " 'O.paw.z_6.atompaw.jth.v1.1-str': {'cohesive_energy': {'wfc_cutoff': 55.0,\n",
       "   'rho_cutoff': 440.0,\n",
       "   'dual': 8.0},\n",
       "  'bands': {'wfc_cutoff': 35.0, 'rho_cutoff': 280.0, 'dual': 8.0},\n",
       "  'pressure': {'wfc_cutoff': 70.0, 'rho_cutoff': 560.0, 'dual': 8.0},\n",
       "  'phonon_frequencies': {'wfc_cutoff': 30.0, 'rho_cutoff': 240.0, 'dual': 8.0},\n",
       "  'delta': {'wfc_cutoff': 65.0, 'rho_cutoff': 585.0, 'dual': 9.0}},\n",
       " 'O.paw.z_6.ld1.psl.v0.1': {'cohesive_energy': {'wfc_cutoff': 60.0,\n",
       "   'rho_cutoff': 480.0,\n",
       "   'dual': 8.0},\n",
       "  'bands': {'wfc_cutoff': 40.0, 'rho_cutoff': 320.0, 'dual': 8.0},\n",
       "  'pressure': {'wfc_cutoff': 70.0, 'rho_cutoff': 560.0, 'dual': 8.0},\n",
       "  'phonon_frequencies': {'wfc_cutoff': 30.0, 'rho_cutoff': 240.0, 'dual': 8.0},\n",
       "  'delta': {'wfc_cutoff': 100.0, 'rho_cutoff': 800.0, 'dual': 8.0}},\n",
       " 'O.paw.z_6.ld1.psl.v1.0.0-high': {'cohesive_energy': {'wfc_cutoff': 55.0,\n",
       "   'rho_cutoff': 440.0,\n",
       "   'dual': 8.0},\n",
       "  'bands': {'wfc_cutoff': 40.0, 'rho_cutoff': 320.0, 'dual': 8.0},\n",
       "  'pressure': {'wfc_cutoff': 75.0, 'rho_cutoff': 600.0, 'dual': 8.0},\n",
       "  'phonon_frequencies': {'wfc_cutoff': 30.0, 'rho_cutoff': 240.0, 'dual': 8.0},\n",
       "  'delta': {'wfc_cutoff': 65.0, 'rho_cutoff': 520.0, 'dual': 8.0}},\n",
       " 'O.paw.z_6.ld1.psl.v1.0.0-low': {'cohesive_energy': {'wfc_cutoff': 55.0,\n",
       "   'rho_cutoff': 440.0,\n",
       "   'dual': 8.0},\n",
       "  'bands': {'wfc_cutoff': 35.0, 'rho_cutoff': 280.0, 'dual': 8.0},\n",
       "  'pressure': {'wfc_cutoff': 65.0, 'rho_cutoff': 520.0, 'dual': 8.0},\n",
       "  'phonon_frequencies': {'wfc_cutoff': 30.0, 'rho_cutoff': 240.0, 'dual': 8.0},\n",
       "  'delta': {'wfc_cutoff': 65.0, 'rho_cutoff': 520.0, 'dual': 8.0}},\n",
       " 'O.us.z_6.ld1.psl.v0.1': {'cohesive_energy': {'wfc_cutoff': 55.0,\n",
       "   'rho_cutoff': 990.0,\n",
       "   'dual': 18.0},\n",
       "  'bands': {'wfc_cutoff': 40.0, 'rho_cutoff': 640.0, 'dual': 16.0},\n",
       "  'pressure': {'wfc_cutoff': 70.0, 'rho_cutoff': 700.0, 'dual': 10.0},\n",
       "  'phonon_frequencies': {'wfc_cutoff': 30.0,\n",
       "   'rho_cutoff': 360.0,\n",
       "   'dual': 12.0},\n",
       "  'delta': {'wfc_cutoff': 100.0, 'rho_cutoff': 1200.0, 'dual': 12.0}},\n",
       " 'O.us.z_6.ld1.psl.v1.0.0-high': {'cohesive_energy': {'wfc_cutoff': 55.0,\n",
       "   'rho_cutoff': 440.0,\n",
       "   'dual': 8.0},\n",
       "  'bands': {'wfc_cutoff': 40.0, 'rho_cutoff': 320.0, 'dual': 8.0},\n",
       "  'pressure': {'wfc_cutoff': 75.0, 'rho_cutoff': 600.0, 'dual': 8.0},\n",
       "  'phonon_frequencies': {'wfc_cutoff': 30.0, 'rho_cutoff': 240.0, 'dual': 8.0},\n",
       "  'delta': {'wfc_cutoff': 65.0, 'rho_cutoff': 520.0, 'dual': 8.0}},\n",
       " 'O.us.z_6.uspp.gbrv.v1.2': {'cohesive_energy': {'wfc_cutoff': 55.0,\n",
       "   'rho_cutoff': 440.0,\n",
       "   'dual': 8.0},\n",
       "  'bands': {'wfc_cutoff': 30.0, 'rho_cutoff': 240.0, 'dual': 8.0},\n",
       "  'pressure': {'wfc_cutoff': 40.0, 'rho_cutoff': 320.0, 'dual': 8.0},\n",
       "  'phonon_frequencies': {'wfc_cutoff': 30.0, 'rho_cutoff': 240.0, 'dual': 8.0},\n",
       "  'delta': {'wfc_cutoff': 200.0, 'rho_cutoff': 1600.0, 'dual': 8.0}}}"
      ]
     },
     "execution_count": 9,
     "metadata": {},
     "output_type": "execute_result"
    }
   ],
   "source": [
    "psp_data"
   ]
  },
  {
   "cell_type": "code",
   "execution_count": null,
   "metadata": {},
   "outputs": [],
   "source": [
    "psp_data"
   ]
  },
  {
   "cell_type": "code",
   "execution_count": null,
   "metadata": {},
   "outputs": [],
   "source": [
    "# write the data to a json file\n",
    "import json\n",
    "with open('./O_psp_data.json', 'w') as f:\n",
    "    json.dump(psp_data, f, indent=2)"
   ]
  },
  {
   "cell_type": "code",
   "execution_count": null,
   "metadata": {},
   "outputs": [],
   "source": [
    "# pseudos dict for precioson running\n",
    "psp_dict = {}\n",
    "\n",
    "for label, data in psp_data.items():\n",
    "    # get the cutoffs of delta convergence test\n",
    "    wfc_cutoff = data['delta']['wfc_cutoff']\n",
    "    rho_cutoff = data['delta']['rho_cutoff']\n",
    "    psp_dict[label] = (wfc_cutoff, rho_cutoff)\n",
    "\n",
    "psp_dict"
   ]
  }
 ],
 "metadata": {
  "kernelspec": {
   "display_name": "Python 3",
   "language": "python",
   "name": "python3"
  },
  "language_info": {
   "codemirror_mode": {
    "name": "ipython",
    "version": 3
   },
   "file_extension": ".py",
   "mimetype": "text/x-python",
   "name": "python",
   "nbconvert_exporter": "python",
   "pygments_lexer": "ipython3",
   "version": "3.9.16"
  },
  "orig_nbformat": 4
 },
 "nbformat": 4,
 "nbformat_minor": 2
}
