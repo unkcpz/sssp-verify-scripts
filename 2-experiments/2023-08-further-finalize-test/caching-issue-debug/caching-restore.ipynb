{
 "cells": [
  {
   "cell_type": "code",
   "execution_count": 1,
   "metadata": {},
   "outputs": [
    {
     "name": "stdout",
     "output_type": "stream",
     "text": [
      "env: AIIDA_PATH=/home/jyu/.aiida\n"
     ]
    },
    {
     "data": {
      "application/json": {
       "current_state": "Loaded AiiDA DB environment - profile name: 2023-08-07."
      },
      "text/html": [
       "<p>Loaded AiiDA DB environment - profile name: 2023-08-07.</p>"
      ],
      "text/latex": [
       "Loaded AiiDA DB environment - profile name: 2023-08-07.\n"
      ],
      "text/plain": [
       "Loaded AiiDA DB environment - profile name: 2023-08-07.\n"
      ]
     },
     "execution_count": 1,
     "metadata": {},
     "output_type": "execute_result"
    }
   ],
   "source": [
    "%env AIIDA_PATH=/home/jyu/.aiida\n",
    "\n",
    "%load_ext aiida\n",
    "%aiida"
   ]
  },
  {
   "cell_type": "code",
   "execution_count": 2,
   "metadata": {},
   "outputs": [
    {
     "data": {
      "text/plain": [
       "Profile<uuid='05b2711ba5fd4521a4dabced0ec5e128' name='2023-08-07'>"
      ]
     },
     "execution_count": 2,
     "metadata": {},
     "output_type": "execute_result"
    }
   ],
   "source": [
    "from aiida import load_profile\n",
    "\n",
    "load_profile(\"2023-08-07\")"
   ]
  },
  {
   "cell_type": "code",
   "execution_count": 10,
   "metadata": {},
   "outputs": [
    {
     "name": "stdout",
     "output_type": "stream",
     "text": [
      "202152 True True 202139\n",
      "239346 True True 202152\n",
      "196453 True False None\n",
      "239308 True True 202152\n"
     ]
    }
   ],
   "source": [
    "from aiida import orm\n",
    "# get all nodes of one failed calcjob\n",
    "n = orm.load_node(239346)\n",
    "for node in n.base.caching.get_all_same_nodes():\n",
    "    if node.base.caching.is_created_from_cache:\n",
    "        cached_from = node.base.extras.get(\"_aiida_cached_from\")\n",
    "        cached_from_pk = orm.load_node(cached_from).pk\n",
    "    else:\n",
    "        cached_from_pk = None\n",
    "    print(node.pk, node.is_valid_cache, node.base.caching.is_created_from_cache, cached_from_pk)"
   ]
  },
  {
   "cell_type": "code",
   "execution_count": 11,
   "metadata": {},
   "outputs": [],
   "source": [
    "def restore_caching_property(node_caching_mapping):\n",
    "    for pk, is_valid_cache in node_caching_mapping.items():\n",
    "        node = orm.load_node(pk)\n",
    "        node.is_valid_cache = is_valid_cache\n",
    "        print(f\"restore node {pk} is_valid_cache={is_valid_cache}\")"
   ]
  },
  {
   "cell_type": "code",
   "execution_count": null,
   "metadata": {},
   "outputs": [],
   "source": [
    "# Original caching mapping\n",
    "node_caching_mapping = {\n",
    "    \"202152\": True, # bands\n",
    "    \"239346\": True, # pressure\n",
    "    \"196453\": True, # original _caching calcjob\n",
    "    \"239308\": True, # cohesive energy\n",
    "    \"202139\": False, # this is the phonon calcjob that finished and because the source of 202152\n",
    "}"
   ]
  },
  {
   "cell_type": "code",
   "execution_count": 14,
   "metadata": {},
   "outputs": [],
   "source": [
    "node_caching_mapping = {\n",
    "    \"202152\": False, # bands\n",
    "    \"239346\": False, # pressure\n",
    "    \"196453\": True, # original _caching calcjob\n",
    "    \"239308\": False, # cohesive energy\n",
    "    \"202139\": False, # this is the phonon calcjob that finished and because the source of 202152\n",
    "}"
   ]
  },
  {
   "cell_type": "code",
   "execution_count": 15,
   "metadata": {},
   "outputs": [
    {
     "name": "stdout",
     "output_type": "stream",
     "text": [
      "restore node 202152 is_valid_cache=False\n",
      "restore node 239346 is_valid_cache=False\n",
      "restore node 196453 is_valid_cache=True\n",
      "restore node 239308 is_valid_cache=False\n",
      "restore node 202139 is_valid_cache=False\n"
     ]
    }
   ],
   "source": [
    "restore_caching_property(node_caching_mapping)"
   ]
  },
  {
   "cell_type": "code",
   "execution_count": null,
   "metadata": {},
   "outputs": [],
   "source": [
    "# THis is the command to run \n",
    "# aiida-sssp-workflow launch --property convergence.bands --pw-code pw-7.0@daint-mc-mrcloud-mem --ph-code ph-7.0@daint-mc-mrcloud-mem --protocol acwf --cutoff-control standard --criteria precision --withmpi True --num-mpiprocs 32 --npool 4 --comment Oxygen --no-daemon -- /home/jyu/Projects/WP-SSSP/sssp-verify-scripts/_sssp_pbe/O/O.us.z_6.ld1.psl.v1.0.0-low.upf\n"
   ]
  }
 ],
 "metadata": {
  "kernelspec": {
   "display_name": "Python 3",
   "language": "python",
   "name": "python3"
  },
  "language_info": {
   "codemirror_mode": {
    "name": "ipython",
    "version": 3
   },
   "file_extension": ".py",
   "mimetype": "text/x-python",
   "name": "python",
   "nbconvert_exporter": "python",
   "pygments_lexer": "ipython3",
   "version": "3.9.16"
  },
  "orig_nbformat": 4
 },
 "nbformat": 4,
 "nbformat_minor": 2
}
