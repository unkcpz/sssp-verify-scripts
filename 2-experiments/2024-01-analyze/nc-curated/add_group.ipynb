{
 "cells": [
  {
   "cell_type": "code",
   "execution_count": 1,
   "metadata": {},
   "outputs": [],
   "source": [
    "from aiida import load_profile\n",
    "import typing as t\n",
    "import json\n",
    "\n",
    "load_profile(\"2023-08-07\")\n",
    "\n",
    "from aiida import orm"
   ]
  },
  {
   "cell_type": "code",
   "execution_count": 3,
   "metadata": {},
   "outputs": [
    {
     "data": {
      "text/plain": [
       "(<Group: 'nc-curated/element/Te' [type core], of user jusong.yu@psi.ch>, False)"
      ]
     },
     "execution_count": 3,
     "metadata": {},
     "output_type": "execute_result"
    }
   ],
   "source": [
    "# Create group of all elements\n",
    "pd_elements_lst = [\n",
    "    'H', 'He', \n",
    "    'Li', 'Be', 'B', 'C', 'N', 'O', 'F', 'Ne',\n",
    "    'Na', 'Mg', 'Al', 'Si', 'P', 'S', 'Cl', 'Ar',\n",
    "#    'K', 'Ca', 'Sc', 'Ti', 'V', 'Cr', 'Mn', 'Fe', 'Co', 'Ni', 'Cu', 'Zn', 'Ga', 'Ge', 'As', 'Se','Br', 'Kr',\n",
    "#    'Rb', 'Sr', 'Y', 'Zr', 'Nb', 'Mo', 'Tc', 'Ru', 'Rh', 'Pd','Ag', 'Cd', 'In', 'Sn', 'Sb', 'Te', 'I', 'Xe',\n",
    "#    'Cs', 'Ba',      'Hf', 'Ta', 'W', 'Re', 'Os', 'Ir', 'Pt','Au', 'Hg', 'Tl', 'Pb', 'Bi', 'Po', 'At', 'Rn',\n",
    "#    'Fr', 'Ra',\n",
    "#    'La', 'Ce', 'Pr', 'Nd', 'Pm', 'Sm', 'Eu', 'Gd', 'Tb','Dy', 'Ho', 'Er', 'Tm', 'Yb', 'Lu',\n",
    "#    'Th', 'Pa', 'U', 'Np', 'Pu', 'Am', 'Cm', 'Bk', 'Cf','Es', 'Fm', 'Md', 'No', 'Lr',\n",
    "]"
   ]
  },
  {
   "cell_type": "code",
   "execution_count": 9,
   "metadata": {},
   "outputs": [
    {
     "name": "stdout",
     "output_type": "stream",
     "text": [
      "(acwf at eiger-mc-mr33-mem - default) H.nc.z_1.oncvpsp4.sg15.v0\n",
      "(acwf at eiger-mc-mr33-mem - default) He.nc.z_2.oncvpsp4.sg15.v0\n",
      "(acwf at eiger-mc-mr33-mem - default) Li.nc.z_3.oncvpsp4.sg15.v0\n",
      "(acwf at eiger-mc-mr33-mem - default) Be.nc.z_4.oncvpsp4.sg15.v0\n",
      "(acwf at eiger-mc-mr33-mem - default) B.nc.z_3.oncvpsp4.sg15.v0\n",
      "(acwf at eiger-mc-mr33-mem - default) C.nc.z_4.oncvpsp4.sg15.v0\n",
      "(acwf at eiger-mc-mr33-mem - default) N.nc.z_5.oncvpsp4.sg15.v0\n",
      "(acwf at eiger-mc-mr33-mem - default) O.nc.z_6.oncvpsp4.sg15.v0\n",
      "(acwf at eiger-mc-mr33-mem - default) F.nc.z_7.oncvpsp4.sg15.v0\n",
      "(acwf at eiger-mc-mr33-mem - default) Ne.nc.z_8.oncvpsp4.sg15.v0\n",
      "(acwf at eiger-mc-mr33-mem - default) Na.nc.z_9.oncvpsp4.sg15.v0\n",
      "(acwf at eiger-mc-mr33-mem - default) Mg.nc.z_10.oncvpsp4.sg15.v0\n",
      "(acwf at eiger-mc-mr33-mem - default) Al.nc.z_11.oncvpsp4.sg15.v0\n",
      "(acwf at eiger-mc-mr33-mem - default) Si.nc.z_4.oncvpsp4.sg15.v0\n",
      "(acwf at eiger-mc-mr33-mem - default) P.nc.z_5.oncvpsp4.sg15.v0\n",
      "(acwf at eiger-mc-mr33-mem - default) S.nc.z_6.oncvpsp4.sg15.v0\n",
      "(acwf at eiger-mc-mr33-mem - default) Cl.nc.z_7.oncvpsp4.sg15.v0\n",
      "(acwf at eiger-mc-mr33-mem - default) H.nc.z_1.oncvpsp4.spms.v1\n",
      "(acwf at eiger-mc-mr33-mem - default) He.nc.z_2.oncvpsp4.spms.v1\n",
      "(acwf at eiger-mc-mr33-mem - default) Li.nc.z_3.oncvpsp4.spms.v1\n",
      "(acwf at eiger-mc-mr33-mem - default) Be.nc.z_4.oncvpsp4.spms.v1\n",
      "(acwf at eiger-mc-mr33-mem - default) B.nc.z_3.oncvpsp4.spms.v1\n",
      "(acwf at eiger-mc-mr33-mem - default) C.nc.z_4.oncvpsp4.spms.v1\n",
      "(acwf at eiger-mc-mr33-mem - default) N.nc.z_5.oncvpsp4.spms.v1\n",
      "(acwf at eiger-mc-mr33-mem - default) O.nc.z_6.oncvpsp4.spms.v1\n",
      "(acwf at eiger-mc-mr33-mem - default) F.nc.z_7.oncvpsp4.spms.v1\n",
      "(acwf at eiger-mc-mr33-mem - default) Ne.nc.z_8.oncvpsp4.spms.v1\n",
      "(acwf at eiger-mc-mr33-mem - default) Na.nc.z_9.oncvpsp4.spms.v1\n",
      "(acwf at eiger-mc-mr33-mem - default) Mg.nc.z_10.oncvpsp4.spms.v1\n",
      "(acwf at eiger-mc-mr33-mem - default) Al.nc.z_3.oncvpsp4.spms.v1\n",
      "(acwf at eiger-mc-mr33-mem - default) Si.nc.z_4.oncvpsp4.spms.v1\n",
      "(acwf at eiger-mc-mr33-mem - default) P.nc.z_5.oncvpsp4.spms.v1\n",
      "(acwf at eiger-mc-mr33-mem - default) S.nc.z_6.oncvpsp4.spms.v1\n",
      "(acwf at eiger-mc-mr33-mem - default) Cl.nc.z_7.oncvpsp4.spms.v1\n",
      "(acwf at eiger-mc-mr33-mem - default) Ar.nc.z_8.oncvpsp4.spms.v1\n",
      "(acwf at eiger-mc-mr33-mem - default) H.nc.z_1.oncvpsp3.dojo.v0.5.0-std\n",
      "(acwf at eiger-mc-mr33-mem - default) He.nc.z_2.oncvpsp3.dojo.v0.5.0-std\n",
      "(acwf at eiger-mc-mr33-mem - default) Li.nc.z_3.oncvpsp3.dojo.v0.5.0-std\n",
      "(acwf at eiger-mc-mr33-mem - default) Be.nc.z_4.oncvpsp3.dojo.v0.5.0-std\n",
      "(acwf at eiger-mc-mr33-mem - default) B.nc.z_3.oncvpsp3.dojo.v0.5.0-std\n",
      "(acwf at eiger-mc-mr33-mem - default) C.nc.z_4.oncvpsp3.dojo.v0.5.0-std\n",
      "(acwf at eiger-mc-mr33-mem - default) N.nc.z_5.oncvpsp3.dojo.v0.5.0-std\n",
      "(acwf at eiger-mc-mr33-mem - default) O.nc.z_6.oncvpsp3.dojo.v0.5.0-std\n",
      "(acwf at eiger-mc-mr33-mem - default) F.nc.z_7.oncvpsp3.dojo.v0.5.0-std\n",
      "(acwf at eiger-mc-mr33-mem - default) Ne.nc.z_8.oncvpsp3.dojo.v0.5.0-std\n",
      "(acwf at eiger-mc-mr33-mem - default) Na.nc.z_9.oncvpsp3.dojo.v0.5.0-std\n",
      "(acwf at eiger-mc-mr33-mem - default) Mg.nc.z_10.oncvpsp3.dojo.v0.5.0-std\n",
      "(acwf at eiger-mc-mr33-mem - default) Al.nc.z_3.oncvpsp3.dojo.v0.5.0-std\n",
      "(acwf at eiger-mc-mr33-mem - default) Si.nc.z_4.oncvpsp3.dojo.v0.5.0-std\n",
      "(acwf at eiger-mc-mr33-mem - default) P.nc.z_5.oncvpsp3.dojo.v0.5.0-std\n",
      "(acwf at eiger-mc-mr33-mem - default) S.nc.z_6.oncvpsp4.dojo.v0.5.0-std\n",
      "(acwf at eiger-mc-mr33-mem - default) Cl.nc.z_7.oncvpsp3.dojo.v0.5.0-std\n",
      "(acwf at eiger-mc-mr33-mem - default) Ar.nc.z_8.oncvpsp3.dojo.v0.5.0-std\n",
      "(acwf at eiger-mc-mr33-mem - default) H.nc.z_1.ld1.psl.v1.0.0\n",
      "(acwf at eiger-mc-mr33-mem - default) He.nc.z_2.ld1.psl.v1.0.0\n",
      "(acwf at eiger-mc-mr33-mem - default) Li.nc.z_1.ld1.psl.v1.0.0\n",
      "(acwf at eiger-mc-mr33-mem - default) Be.nc.z_2.ld1.psl.v1.0.0\n",
      "(acwf at eiger-mc-mr33-mem - default) B.nc.z_3.ld1.psl.v1.0.0\n",
      "(acwf at eiger-mc-mr33-mem - default) C.nc.z_4.ld1.psl.v1.0.0\n",
      "(acwf at eiger-mc-mr33-mem - default) N.nc.z_5.ld1.psl.v1.0.0\n",
      "(acwf at eiger-mc-mr33-mem - default) O.nc.z_6.ld1.psl.v1.0.0\n",
      "(acwf at eiger-mc-mr33-mem - default) F.nc.z_7.ld1.psl.v1.0.0\n",
      "(acwf at eiger-mc-mr33-mem - default) Ne.nc.z_8.ld1.psl.v1.0.0\n",
      "(acwf at eiger-mc-mr33-mem - default) Na.nc.z_1.ld1.psl.v1.0.0\n",
      "(acwf at eiger-mc-mr33-mem - default) Mg.nc.z_2.ld1.psl.v1.0.0\n",
      "(acwf at eiger-mc-mr33-mem - default) Al.nc.z_3.ld1.psl.v1.0.0\n",
      "(acwf at eiger-mc-mr33-mem - default) Si.nc.z_4.ld1.psl.v1.0.0\n",
      "(acwf at eiger-mc-mr33-mem - default) P.nc.z_5.ld1.psl.v1.0.0\n",
      "(acwf at eiger-mc-mr33-mem - default) S.nc.z_6.ld1.psl.v1.0.0\n",
      "(acwf at eiger-mc-mr33-mem - default) Cl.nc.z_7.ld1.psl.v1.0.0\n",
      "(acwf at eiger-mc-mr33-mem - default) Ar.nc.z_8.ld1.psl.v1.0.0\n"
     ]
    }
   ],
   "source": [
    "libraries = [\n",
    "    \"lib-NC-SG15-dojo-oxygen/measure/precision\",\n",
    "    \"lib-NC-SPMS-dojo-oxygen/measure/precision\",\n",
    "    \"lib-NC-DOJOv0.5-standard-dojo-oxygen/measure/precision\",\n",
    "    \"lib-NC-PSL-1.0.0-dojo-oxygen/measure/precision\",\n",
    "]\n",
    "\n",
    "for lib in libraries:\n",
    "    lib_group = orm.Group.collection.get(label=lib)\n",
    "    for element in pd_elements_lst:\n",
    "        element_group, _ = orm.Group.collection.get_or_create(label=f'nc-curated/element/{element}')\n",
    "        for node in lib_group.nodes:\n",
    "            if node.base.extras.all['element'] == element:\n",
    "                element_group.add_nodes(node)"
   ]
  },
  {
   "cell_type": "code",
   "execution_count": null,
   "metadata": {},
   "outputs": [],
   "source": []
  }
 ],
 "metadata": {
  "kernelspec": {
   "display_name": "Python 3",
   "language": "python",
   "name": "python3"
  },
  "language_info": {
   "codemirror_mode": {
    "name": "ipython",
    "version": 3
   },
   "file_extension": ".py",
   "mimetype": "text/x-python",
   "name": "python",
   "nbconvert_exporter": "python",
   "pygments_lexer": "ipython3",
   "version": "3.9.16"
  }
 },
 "nbformat": 4,
 "nbformat_minor": 2
}
