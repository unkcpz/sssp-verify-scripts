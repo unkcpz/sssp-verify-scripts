{
 "cells": [
  {
   "cell_type": "code",
   "execution_count": 1,
   "metadata": {},
   "outputs": [],
   "source": [
    "from aiida import load_profile\n",
    "import typing as t\n",
    "import json\n",
    "\n",
    "load_profile(\"2023-08-07\")\n",
    "\n",
    "from aiida import orm\n",
    "from aiida_sssp_workflow.calculations.calculate_metric import rel_errors_vec_length"
   ]
  },
  {
   "cell_type": "code",
   "execution_count": 2,
   "metadata": {},
   "outputs": [],
   "source": [
    "def get_conv_data(i_para, r_para) -> t.Tuple[float, float, float]:\n",
    "    \"\"\"Return AE_delta (per atom), AE_nu, REL_nu (the nu compare to the reference not to AE)\"\"\"\n",
    "    AE_delta = i_para['delta/natoms']\n",
    "    AE_nu = i_para['rel_errors_vec_length']\n",
    "    \n",
    "    REFE_delta = r_para['delta/natoms']\n",
    "    REFE_nu = r_para['rel_errors_vec_length']\n",
    "    \n",
    "    AE_delta_abs_diff = abs(AE_delta - REFE_delta)\n",
    "    AE_nu_abs_diff = abs(AE_nu - REFE_nu)\n",
    "    \n",
    "    ref_V0, ref_B0, ref_B1 = r_para['birch_murnaghan_results']\n",
    "    V0, B0, B1 = i_para['birch_murnaghan_results']\n",
    "\n",
    "    RELA_nu = rel_errors_vec_length(ref_V0, ref_B0, ref_B1, V0, B0, B1)\n",
    "\n",
    "    return AE_delta_abs_diff, AE_nu_abs_diff, RELA_nu"
   ]
  },
  {
   "cell_type": "code",
   "execution_count": 3,
   "metadata": {},
   "outputs": [],
   "source": [
    "def extract_data(node):\n",
    "    max_cutoff = 0.0\n",
    "    for wf in node.called:\n",
    "        if wf.process_label == 'ConvergenceDeltaWorkChain':\n",
    "            lst = []\n",
    "            for wf2 in wf.called:\n",
    "\n",
    "                if wf2.process_label == 'helper_delta_difference':\n",
    "                    lst.append(wf2)\n",
    "                if wf2.process_label == 'convergence_analysis':\n",
    "                    break\n",
    "\n",
    "        elif wf.process_label.startswith('Convergence'):\n",
    "            try:\n",
    "                cutoff = wf.outputs.output_parameters.get_dict()['wavefunction_cutoff']\n",
    "                if cutoff > max_cutoff:\n",
    "                    max_cutoff = cutoff\n",
    "            except Exception as e:\n",
    "                print(e)\n",
    "        \n",
    "        else:\n",
    "            # parse_pseudo_info or _CachingConvergenceWorkChain\n",
    "            continue\n",
    "        \n",
    "    scan_list = [30, 35, 40, 45, 50, 55, 60, 65, 70, 75, 80, 90, 100, 120, 150, 200]\n",
    "    data = {}\n",
    "    for i, wf in enumerate(lst):\n",
    "        cutoff = scan_list[i]\n",
    "\n",
    "        i_para = wf.inputs.input_parameters.get_dict()\n",
    "        r_para = wf.inputs.ref_parameters.get_dict()\n",
    "    \n",
    "        AE_delta_abs_diff, AE_nu_abs_diff, RELA_nu = get_conv_data(i_para, r_para)\n",
    "        data[cutoff] = {\n",
    "            \"AE_delta\": AE_delta_abs_diff,\n",
    "            \"AE_nu_diff\": AE_nu_abs_diff,\n",
    "            \"RELA_nu\": RELA_nu,\n",
    "        }\n",
    "        \n",
    "    # return two values, the first in the AE_nu_diff (originally used), the second is the REL_nu (we want to use now, which does not depend on the AE info)\n",
    "    if max_cutoff >= 200:\n",
    "        return 0, 0\n",
    "\n",
    "    else:\n",
    "        ret_AE_nu_diff = data[max_cutoff]['AE_nu_diff']\n",
    "        ret_RELA_nu = data[max_cutoff]['RELA_nu']\n",
    "\n",
    "        return ret_AE_nu_diff, ret_RELA_nu\n",
    "    "
   ]
  },
  {
   "cell_type": "code",
   "execution_count": 4,
   "metadata": {},
   "outputs": [],
   "source": [
    "def extract_new_data(node):\n",
    "    for wf in node.called:\n",
    "        if wf.process_label == 'ConvergenceDeltaWorkChain':\n",
    "            lst = []\n",
    "            for wf2 in wf.called:\n",
    "\n",
    "                if wf2.process_label == 'helper_delta_difference':\n",
    "                    lst.append(wf2)\n",
    "                if wf2.process_label == 'convergence_analysis':\n",
    "                    break\n",
    "        \n",
    "        else:\n",
    "            # parse_pseudo_info or _CachingConvergenceWorkChain\n",
    "            continue\n",
    "        \n",
    "    scan_list = [30, 35, 40, 45, 50, 55, 60, 65, 70, 75, 80, 90, 100, 120, 150, 200]\n",
    "    data = {}\n",
    "    if len(lst) != len(scan_list):\n",
    "        return None\n",
    "    for i, wf in enumerate(lst):\n",
    "        cutoff = scan_list[i]\n",
    "\n",
    "        i_para = wf.inputs.input_parameters.get_dict()\n",
    "        r_para = wf.inputs.ref_parameters.get_dict()\n",
    "    \n",
    "        AE_delta_abs_diff, AE_nu_abs_diff, RELA_nu = get_conv_data(i_para, r_para)\n",
    "        data[cutoff] = {\n",
    "            \"AE_delta\": AE_delta_abs_diff,\n",
    "            \"AE_nu_diff\": AE_nu_abs_diff,\n",
    "            \"RELA_nu\": RELA_nu,\n",
    "        }\n",
    "\n",
    "    # Get the converge value of AE_nu_diff < 0.01\n",
    "    max_cutoff = 200\n",
    "    for cutoff in reversed(scan_list):\n",
    "        try: \n",
    "            ae_diff = data[cutoff]['AE_nu_diff']\n",
    "            rel_diff = data[cutoff]['RELA_nu']\n",
    "        except:\n",
    "            continue\n",
    "        \n",
    "        #if ae_diff > 0.01:\n",
    "        #    break\n",
    "        if rel_diff > 0.01:\n",
    "            break\n",
    "\n",
    "        max_cutoff = cutoff\n",
    "        \n",
    "    # return two values, the first in the AE_nu_diff (originally used), the second is the REL_nu (we want to use now, which does not depend on the AE info)\n",
    "    if max_cutoff >= 200:\n",
    "        return 0, 0\n",
    "\n",
    "    else:\n",
    "        try:\n",
    "            ret_AE_nu_diff = data[max_cutoff]['AE_nu_diff']\n",
    "            ret_RELA_nu = data[max_cutoff]['RELA_nu']\n",
    "\n",
    "            #if ret_AE_nu_diff < 0.002:\n",
    "            #    print(data)\n",
    "\n",
    "            return ret_AE_nu_diff, ret_RELA_nu\n",
    "        except:\n",
    "            return None"
   ]
  },
  {
   "cell_type": "code",
   "execution_count": 5,
   "metadata": {},
   "outputs": [],
   "source": [
    "gs = [\n",
    "    'lib-NC-SG15/convergence/precision',\n",
    "    'lib-NC-PSL-1.0.0/convergence/precision',\n",
    "    'lib-PAW-PSL-1.0.0-high/convergence/precision',\n",
    "    'lib-PAW-PSL-1.0.0-low/convergence/precision',\n",
    "    'lib-NC-DOJOv0.5-standard/convergence/precision',\n",
    "    'lib-US-PSL-0.x/convergence/precision',\n",
    "]\n",
    "\n",
    "g1 = orm.Group.collection.get(label='lib-NC-SG15/convergence/precision')\n",
    "gs_nodes = []\n",
    "for g in gs:\n",
    "    gs_nodes.extend(orm.Group.collection.get(label=g).nodes)\n",
    "    \n",
    "AE_nu_diff_lst = []\n",
    "RELA_nu_lst = []\n",
    "for node in gs_nodes:\n",
    "    #AE_nu_diff, RELA_nu = extract_data(node)\n",
    "    ret = extract_new_data(node)\n",
    "    if ret is None:\n",
    "        continue\n",
    "\n",
    "    AE_nu_diff, RELA_nu = ret\n",
    "\n",
    "    AE_nu_diff_lst.append(AE_nu_diff)\n",
    "    RELA_nu_lst.append(RELA_nu)"
   ]
  },
  {
   "cell_type": "code",
   "execution_count": 8,
   "metadata": {},
   "outputs": [
    {
     "data": {
      "text/plain": [
       "(0.0, 0.02)"
      ]
     },
     "execution_count": 8,
     "metadata": {},
     "output_type": "execute_result"
    },
    {
     "data": {
      "image/png": "[encoded data removed]",
      "text/plain": [
       "<Figure size 640x480 with 1 Axes>"
      ]
     },
     "metadata": {},
     "output_type": "display_data"
    }
   ],
   "source": [
    "import matplotlib.pyplot as plt\n",
    "\n",
    "plt.plot(AE_nu_diff_lst, RELA_nu_lst, 'o')\n",
    "plt.ylim(0, 0.02)"
   ]
  },
  {
   "cell_type": "code",
   "execution_count": null,
   "metadata": {},
   "outputs": [],
   "source": []
  }
 ],
 "metadata": {
  "kernelspec": {
   "display_name": "Python 3",
   "language": "python",
   "name": "python3"
  },
  "language_info": {
   "codemirror_mode": {
    "name": "ipython",
    "version": 3
   },
   "file_extension": ".py",
   "mimetype": "text/x-python",
   "name": "python",
   "nbconvert_exporter": "python",
   "pygments_lexer": "ipython3",
   "version": "3.9.16"
  }
 },
 "nbformat": 4,
 "nbformat_minor": 2
}
