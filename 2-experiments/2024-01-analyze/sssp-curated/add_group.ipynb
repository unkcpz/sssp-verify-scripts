{
 "cells": [
  {
   "cell_type": "code",
   "execution_count": 1,
   "metadata": {},
   "outputs": [],
   "source": [
    "from aiida import load_profile\n",
    "import typing as t\n",
    "import json\n",
    "\n",
    "load_profile(\"2023-08-07\")\n",
    "\n",
    "from aiida import orm"
   ]
  },
  {
   "cell_type": "code",
   "execution_count": 2,
   "metadata": {},
   "outputs": [],
   "source": [
    "# Create group of all elements\n",
    "pd_elements_lst = [\n",
    "    'H', 'He', \n",
    "    'Li', 'Be', 'B', 'C', 'N', 'O', 'F', 'Ne',\n",
    "    'Na', 'Mg', 'Al', 'Si', 'P', 'S', 'Cl', 'Ar',\n",
    "    'K', 'Ca', 'Sc', 'Ti', 'V', 'Cr', 'Mn', 'Fe', 'Co', 'Ni', 'Cu', 'Zn', 'Ga', 'Ge', 'As', 'Se','Br', 'Kr',\n",
    "    'Rb', 'Sr', 'Y', 'Zr', 'Nb', 'Mo', 'Tc', 'Ru', 'Rh', 'Pd','Ag', 'Cd', 'In', 'Sn', 'Sb', 'Te', 'I', 'Xe',\n",
    "    'Cs', 'Ba',      'Hf', 'Ta', 'W', 'Re', 'Os', 'Ir', 'Pt','Au', 'Hg', 'Tl', 'Pb', 'Bi', 'Po', 'At', 'Rn',\n",
    "    'Fr', 'Ra',\n",
    "#    'La', 'Ce', 'Pr', 'Nd', 'Pm', 'Sm', 'Eu', 'Gd', 'Tb','Dy', 'Ho', 'Er', 'Tm', 'Yb', 'Lu',\n",
    "#    'Th', 'Pa', 'U', 'Np', 'Pu', 'Am', 'Cm', 'Bk', 'Cf','Es', 'Fm', 'Md', 'No', 'Lr',\n",
    "]"
   ]
  },
  {
   "cell_type": "code",
   "execution_count": 3,
   "metadata": {},
   "outputs": [],
   "source": [
    "libraries = [\n",
    "    \"lib-GBRV-1.x/measure/precision\",\n",
    "    \"lib-NC-DOJOv0.5-standard-sssp-oxygen/measure/precision\",\n",
    "    \"lib-NC-PSL-1.0.0-sssp-oxygen/measure/precision\",\n",
    "    \"lib-NC-SG15-sssp-oxygen/measure/precision\",\n",
    "    \"lib-NC-SPMS-sssp-oxygen/measure/precision\",\n",
    "    \"lib-PAW-PSL-0.x/measure/precision\",\n",
    "    \"lib-PAW-PSL-1.0.0-high/measure/precision\",\n",
    "    \"lib-PAW-PSL-1.0.0-low/measure/precision\",\n",
    "    \"lib-US-PSL-0.x/measure/precision\",\n",
    "    \"lib-US-PSL-1.0.0-high/measure/precision\",\n",
    "    \"lib-US-PSL-1.0.0-low/measure/precision\",\n",
    "]\n",
    "\n",
    "for lib in libraries:\n",
    "    lib_group = orm.Group.collection.get(label=lib)\n",
    "    for element in pd_elements_lst:\n",
    "        element_group, _ = orm.Group.collection.get_or_create(label=f'sssp-curated/element/{element}')\n",
    "        for node in lib_group.nodes:\n",
    "            if node.base.extras.all['element'] == element:\n",
    "                element_group.add_nodes(node)"
   ]
  },
  {
   "cell_type": "code",
   "execution_count": null,
   "metadata": {},
   "outputs": [],
   "source": []
  }
 ],
 "metadata": {
  "kernelspec": {
   "display_name": "Python 3",
   "language": "python",
   "name": "python3"
  },
  "language_info": {
   "codemirror_mode": {
    "name": "ipython",
    "version": 3
   },
   "file_extension": ".py",
   "mimetype": "text/x-python",
   "name": "python",
   "nbconvert_exporter": "python",
   "pygments_lexer": "ipython3",
   "version": "3.9.16"
  }
 },
 "nbformat": 4,
 "nbformat_minor": 2
}
